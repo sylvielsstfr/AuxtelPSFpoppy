{
 "cells": [
  {
   "cell_type": "markdown",
   "id": "356cf5dc-e3e0-4798-b44e-a30344bddf13",
   "metadata": {},
   "source": [
    "## FFT 1D with the Emulsion phase pattern\n",
    "\n",
    " author : Sylvie Dagoret-Campagne\n",
    "- aflilation IJCLab/IN2P3/CNRS\n",
    "- creation date 2025-01-18\n",
    "- doc on FFT : https://numpy.org/doc/2.0/reference/generated/numpy.fft.fft.html\n",
    "- conda environnement : poppy_conda_py312 (on my macbook)\n",
    "- install poppy : https://poppy-optics.readthedocs.io/en/latest/\n",
    "- install rise in jupyterlab to see the slides : https://github.com/jupyterlab-contrib/rise\n",
    "- install pandoc for documentation"
   ]
  },
  {
   "cell_type": "code",
   "execution_count": 4,
   "id": "9ed34624-2c7b-4a6c-bc7d-a6fb49f704bf",
   "metadata": {
    "tags": []
   },
   "outputs": [],
   "source": [
    "%matplotlib inline\n",
    "import numpy as np\n",
    "import matplotlib.pyplot as plt\n",
    "import astropy.units as u\n",
    "from scipy.integrate import quad"
   ]
  },
  {
   "cell_type": "code",
   "execution_count": 2,
   "id": "0aae178a-83e9-49c7-a79e-15bfc9103649",
   "metadata": {},
   "outputs": [],
   "source": [
    "from auxtelpsfpoppy import libholotransmission"
   ]
  },
  {
   "cell_type": "code",
   "execution_count": null,
   "id": "af64633a-430f-45f8-91f4-f062b9e21d28",
   "metadata": {},
   "outputs": [],
   "source": [
    "import matplotlib as mpl\n",
    "\n",
    "mpl.rcParams['lines.linewidth'] = 2\n",
    "mpl.rcParams['lines.linestyle'] = '-'\n",
    "mpl.rcParams['axes.titlesize'] =  24\n",
    "mpl.rcParams['axes.labelsize'] =  20\n",
    "mpl.rcParams['lines.markersize'] =  10\n",
    "mpl.rcParams['xtick.labelsize'] =  16\n",
    "mpl.rcParams['ytick.labelsize'] = 16"
   ]
  },
  {
   "cell_type": "markdown",
   "id": "ddbf8044-ae95-4685-855c-e46bd652b746",
   "metadata": {},
   "source": [
    "## Introduction\n",
    "\n",
    "### Diffraction of a parallel beam by a 1D aperture $x_1$ seen on a screen at $x_0$ \n",
    "\n",
    "We approximate the diffraction by an optical element with the 1D approximation, with the $x$ axis as the transverse coordinalte and the $z$ axis the wave propagation axis.\n",
    "Taking the formula from the Goodman book we get the formula:\n",
    "\n",
    "- in Fresnel approximation (spherical wave $\\rightarrow$ quadratic terms in propagation term $\\frac{e^{ikr_{01}}}{j\\lambda z}$~:$z^3 \\gg \\frac{\\pi}{4\\lambda}\\left(x_0-x_1\\right)^4|_{max} $:\n",
    "$$\n",
    "U(x_0) = \\frac{exp(jkz)}{jkz} \\exp\\left(j \\frac{k}{2z}x_0^2 \\right) \\int \\int \\left\\{ U(x_1) \\exp\\left(  j \\frac{k}{2z}x_1^2\\right)\\right\\} \\times \\exp \\left\\{ -j \\frac{2 \\pi}{\\lambda z}x_0\\cdot x_1\n",
    "\\right\\}dx_1 \n",
    "$$\n",
    "- in Fraunhofer approximation $ z \\gg \\frac{k(x_1^2+y_1)}{2}|_{max}$:\n",
    "$$\n",
    "U(x_0) = \\frac{exp(jkz)}{jkz} \\exp\\left(j \\frac{k}{2z}x_0^2 \\right) \\int \\int  U(x_1)  \\times \\exp \\left\\{ -j \\frac{2 \\pi}{\\lambda z}x_0\\cdot x_1\n",
    "\\right\\}dx_1 \n",
    "$$\n",
    "- The Fraunhofer approximation solution is proportional to the Fourier transform of $U(x_1)$ at frequency $f_X = \\frac{x_0}{\\lambda z} = \\frac{\\tan \\alpha}{\\lambda }$\n",
    "- The Fresnel approximation solution is proportional to the Fourier transform of $\\left \\{ U(x_1) \\cdot \\exp\\left(  j \\frac{k}{2z}x_1^2\\right) \\right\\}$ at frequency $f_X = \\frac{x_0}{\\lambda z} = \\frac{\\tan \\alpha}{\\lambda }$\n",
    "- $ \\alpha$ is the incident angle on the focal line  in the $(X-Z)$ plane."
   ]
  },
  {
   "cell_type": "markdown",
   "id": "160017f4-932a-445b-86c4-bdf677db42bc",
   "metadata": {},
   "source": [
    "### Transform the parallel beam into a converging beam\n",
    "\n",
    "- thin lens of focal length $\\phi$ with a transmission function (depending on lens depth $\\Delta_0$ and refractive index $n$):\n",
    "$$\n",
    "U_l(x) = \\exp(j k\\Delta_0 n) \\cdot \\exp(-j \\frac{k}{2\\phi}x^2)\n",
    "$$\n",
    "- When a lens (or mirror) transform a parallel beam into a converging beam at the location of an object and have a screen at the focal plane, the $\\exp \\left(j \\frac{k}{2z}x_1^2 \\right)$ is compensated by the lens term $\\exp(-j \\frac{k}{2\\phi}x^2)$\n",
    "- Thus a  converging lens (or mirror) transform a parallel beam Fresnel diffraction into a Fraunhofer diffraction, provided $z=\\phi$.\n",
    "$$\n",
    "U(x_\\phi) = \\frac{exp(jk\\phi)}{jk\\phi} \\exp\\left(j \\frac{k}{2\\phi}x_{\\phi}^2 \\right) \\int \\int U(x)\\cdot P(x) \\times \\exp \n",
    "\\left\\{ -j \\frac{2 \\pi}{\\lambda \\phi}x_\\phi x\\right\\} dx \n",
    "$$"
   ]
  },
  {
   "cell_type": "markdown",
   "id": "fb25a3ca-0fad-4622-95ef-191379903f24",
   "metadata": {},
   "source": [
    "### The pupil function of the lens\n",
    "$$\n",
    "P(x) = \\left\\{ \\begin{array}{c} 1 \\;\\; r < D/2 \\\\ 0 \\;\\;r > D/2 \\end{array} \\right.\n",
    "$$\n",
    "\n",
    "where $r=|x|$ and $D$ is the lens diameter."
   ]
  },
  {
   "cell_type": "markdown",
   "id": "154c3f7a-6a71-4e22-b95c-78b570caef1f",
   "metadata": {},
   "source": [
    "## Function tools"
   ]
  },
  {
   "cell_type": "code",
   "execution_count": null,
   "id": "be77d337-1fc2-47a9-a0dd-e565e15d9f80",
   "metadata": {},
   "outputs": [],
   "source": [
    "def convert_angle_to_0_2pi_interval(angle):\n",
    "    new_angle = np.arctan2(np.sin(angle), np.cos(angle))\n",
    "    new_angle = np.where(new_angle < 0,np.abs(new_angle) + 2 * (np.pi - np.abs(new_angle)),new_angle)\n",
    "    return new_angle"
   ]
  },
  {
   "cell_type": "code",
   "execution_count": null,
   "id": "ed16ee5e-efec-452a-a763-7fcbefd8777e",
   "metadata": {},
   "outputs": [],
   "source": [
    "convert_angle_to_0_2pi_interval(-np.pi/4)"
   ]
  },
  {
   "cell_type": "code",
   "execution_count": null,
   "id": "317745f4-5578-4e65-b641-f27a5374fdcb",
   "metadata": {},
   "outputs": [],
   "source": [
    "def convert_angle_to_mpi_ppi_interval(angle):\n",
    "    new_angle = convert_angle_to_0_2pi_interval(angle)\n",
    "    new_angle = np.where(new_angle > np.pi, new_angle - 2*np.pi,new_angle)\n",
    "\n",
    "    return new_angle"
   ]
  },
  {
   "cell_type": "markdown",
   "id": "92bb3c7e-9048-44d1-9b9a-5b9678802dcf",
   "metadata": {},
   "source": [
    "### Auxtel Configuration"
   ]
  },
  {
   "cell_type": "code",
   "execution_count": null,
   "id": "8bdb327b-2c16-4ecc-aefc-401de4dfec19",
   "metadata": {
    "tags": []
   },
   "outputs": [],
   "source": [
    "# wavelength in m\n",
    "wl = 0.5e-6\n",
    "wl_nm = wl*1e9\n",
    "# pixel scale\n",
    "# 10 microns pixel , 105 microns per arcsec\n",
    "pix_scale = 10.0/105.0 # arcsec per pixel\n",
    "fov_arcsec = 5.0 # must restrict the FOV in focl plane to avoid aliasing\n",
    "# diameter in m\n",
    "D = 1.2\n",
    "Fnum = 18\n",
    "# focal length\n",
    "FL = D*Fnum\n",
    "# Dccd\n",
    "Dccd = 180e-3\n",
    "# beam radius at object positon\n",
    "beam_radius_m =  D/2/FL*Dccd\n",
    "beam_radius_mm =  D/2/FL*Dccd*1000"
   ]
  },
  {
   "cell_type": "code",
   "execution_count": null,
   "id": "7e5ab736-fa50-48c4-adb9-e30716e21002",
   "metadata": {
    "tags": []
   },
   "outputs": [],
   "source": [
    "beam_radius_mm"
   ]
  },
  {
   "cell_type": "markdown",
   "id": "9ab99a89-8445-4f0b-973b-657f15e14aee",
   "metadata": {},
   "source": [
    "### Diffraction Pattern"
   ]
  },
  {
   "cell_type": "code",
   "execution_count": null,
   "id": "99eafec0-7302-4b66-8af3-c24a01cee878",
   "metadata": {
    "tags": []
   },
   "outputs": [],
   "source": [
    "Neff = 150\n",
    "xmin = -0.05\n",
    "xmax = 0.05\n",
    "dxt = xmax-xmin\n",
    "a = 1/Neff"
   ]
  },
  {
   "cell_type": "markdown",
   "id": "400f4bac-b506-4f8c-b715-56bdc317a936",
   "metadata": {},
   "source": [
    "### Hologram recording"
   ]
  },
  {
   "cell_type": "code",
   "execution_count": null,
   "id": "78499d69-39c4-43a2-bf00-7ab2cfa77c19",
   "metadata": {
    "tags": []
   },
   "outputs": [],
   "source": [
    "lambda_R = 0.639e-3 #mm\n",
    "dR = 20.0  # mm\n",
    "DR = dR/lambda_R/Neff"
   ]
  },
  {
   "cell_type": "markdown",
   "id": "6a7db4e6-b84d-4360-aa1b-c22ed1f1bfd0",
   "metadata": {},
   "source": [
    "## Optical depth pattern function"
   ]
  },
  {
   "cell_type": "markdown",
   "id": "be617f82-5178-4d0c-839b-c866b7603bdf",
   "metadata": {},
   "source": [
    "The interference of the two point sources $A,B$ on the hologram emulsion is described\n",
    "by the following formula\n",
    "$$\n",
    "U_{tot} = U_a + U_b = a\\frac{e^{ikr_{AM}}}{r_{AM}} + b\\frac{e^{ikr_{BM}}}{r_{BM}}\n",
    "$$\n",
    "where $a,b$ are the complex amplitudes of the sources at their emission location and the exponential terms $\\frac{e^{ikr}}{r}$ describe the outgoing spherical waves.\n",
    "\n",
    "- If we approximate $\\frac{1}{r_{AM}} \\simeq \\frac{1}{r_{BM}} \\simeq \\frac{1}{D_R}$,\n",
    "- We redefine (a,b) by a relative phase shift between the souces $\\Delta \\psi$ and a relative positive amplitudes (by definition as the phase shift account for negative)\n",
    "  $\\cos \\beta, \\sin \\beta$ such $0 \\le \\beta \\le \\frac{\\pi}{4}$:\n",
    "$$\n",
    "\\begin{array}{ccc}\n",
    "a & = &a_0 \\cos \\beta e^{-i \\frac{\\Delta \\psi}{2}} \\\\\n",
    "b & = & a_0  \\sin\\beta  e^{i \\frac{\\Delta \\psi}{2}}\n",
    "\\end{array}\n",
    "$$\n",
    "\n",
    "Redfining the coordinate in the recording plane $w$ by $x$:\n",
    "\n",
    "$$\n",
    "\\begin{array}{ccc}\n",
    "D_{AM}^2 & = & D_R^2 + \\left( \\frac{d_R}{2}\\right)^2 + l^2 + d_R\\cdot x \\\\\n",
    "D_{BM}^2 & = & D_R^2 + \\left( \\frac{d_R}{2}\\right)^2 + l^2 - d_R \\cdot x \n",
    "\\end{array}\n",
    "$$\n",
    "\n",
    "If we approximate $D_R \\gg d_R,l,x$:\n",
    "\n",
    "$$\n",
    "\\begin{array}{ccc}\n",
    "D_{AM} & = & D_R + \\frac{\\left( \\frac{d_R}{2}\\right)^2 + l^2 + d_R\\cdot x }{2D_R}\\\\\n",
    "D_{BM} & = & D_R + \\frac{\\left( \\frac{d_R}{2}\\right)^2 + l^2 - d_R \\cdot x }{2D_R}\n",
    "\\end{array}\n",
    "$$\n"
   ]
  },
  {
   "cell_type": "markdown",
   "id": "0ce31222-0a6e-4938-aaa9-dff31c74b928",
   "metadata": {},
   "source": [
    "### Pattern recorded on emulsion\n",
    "\n",
    "$$\n",
    "I = \\| U_{tot} \\|^2 \\propto 1 +  \\sin 2\\beta \\cdot \\cos \\left( k\\frac{d_R\\cdot x}{D_R}  -  \\Delta \\psi \\right) =  1 +  \\sin 2\\beta \\cdot \\cos \\left( 2\\pi \\frac{d_R\\cdot x}{\\lambda_F D_R}  -  \\Delta \\psi \\right) \n",
    "$$\n",
    "\n",
    "The periodicity is:\n",
    "\n",
    "$$\n",
    "\\Delta x = \\frac{\\lambda_R D_R}{d_R}\n",
    "$$\n",
    "\n",
    "and the interference contrast $0 <C< 1$ is :\n",
    "\n",
    "$ C = \\frac{I_{max} - I_{min}}{I_{max} + I_{min}} = \\sin 2\\beta$\n",
    "\n",
    "- Note if the two sources have the same amplitudes within a phase shift the contrast is maximal."
   ]
  },
  {
   "cell_type": "code",
   "execution_count": null,
   "id": "11f051ca-5226-4baf-ac13-5bdfc4e6e926",
   "metadata": {},
   "outputs": [],
   "source": [
    "def set_beam_aperture(x,radius = beam_radius_mm):\n",
    "    \"\"\"\n",
    "    \"\"\"\n",
    "    a = np.where(np.logical_or(x<-radius,x>radius),0.,1.)\n",
    "    return a"
   ]
  },
  {
   "cell_type": "markdown",
   "id": "178f1ec9-91a2-498d-b1b5-a2166f4fe42b",
   "metadata": {},
   "source": [
    "## Calculation of interference patterns"
   ]
  },
  {
   "cell_type": "markdown",
   "id": "5740c23c-97d7-4cef-929e-4d4afc760fa1",
   "metadata": {},
   "source": [
    "### 1) Definition of the full true interference pattern"
   ]
  },
  {
   "cell_type": "code",
   "execution_count": null,
   "id": "bd587921-af34-4511-af35-c01f726bddf4",
   "metadata": {
    "tags": []
   },
   "outputs": [],
   "source": [
    "def D_AM(x,y):\n",
    "    \"\"\"\n",
    "    Distance in mm between A source and M point on emulsion\n",
    "    \"\"\"\n",
    "    R2 = DR**2 +(dR/2.)**2+y**2 + dR*x\n",
    "    return np.sqrt(R2)"
   ]
  },
  {
   "cell_type": "code",
   "execution_count": null,
   "id": "de2c5a83-61ac-4c13-9727-a5da1d440f6f",
   "metadata": {
    "tags": []
   },
   "outputs": [],
   "source": [
    "def D_BM(x,y):\n",
    "    \"\"\"\n",
    "    Distance in mm between B source and M point on emulsion\n",
    "    \"\"\"\n",
    "    R2 = DR**2 +(dR/2.)**2+y**2 - dR*x\n",
    "    return np.sqrt(R2)"
   ]
  },
  {
   "cell_type": "markdown",
   "id": "d28c161d-4749-4f93-a44f-477887cd3875",
   "metadata": {},
   "source": [
    "$$\n",
    "U_{tot} = U_a + U_b = D_R\\left( a\\frac{e^{ikr_{AM}}}{r_{AM}} + b\\frac{e^{ikr_{BM}}}{r_{BM}} \\right)\n",
    "$$"
   ]
  },
  {
   "cell_type": "code",
   "execution_count": null,
   "id": "48a7d380-bf9b-4793-8fc3-bba2714ee4e9",
   "metadata": {
    "tags": []
   },
   "outputs": [],
   "source": [
    "def InterferenceModule1(x,y,C=1,DPsi=0):\n",
    "    \"\"\"\n",
    "    \n",
    "    True inteferene pattern\n",
    "    \"\"\"\n",
    "    \n",
    "    # compute real positive amplitude from contrast\n",
    "    \n",
    "    cos_beta = np.sqrt((np.sqrt(1-C**2)+1)/2.)   \n",
    "    sin_beta = np.sqrt((1-np.sqrt(1-C**2))/2.)    \n",
    "    k_R = 2.*np.pi/lambda_R\n",
    "    RAM = D_AM(x,y)\n",
    "    RBM = D_BM(x,y)\n",
    "    \n",
    "    Ua = cos_beta*np.exp(1j*DPsi/2)*np.exp(1j*k_R*RAM)/RAM*DR\n",
    "    Ub = sin_beta*np.exp(1j*DPsi/2)*np.exp(1j*k_R*RBM)/RBM*DR\n",
    "    \n",
    "    U = Ua+Ub\n",
    "    Umod2 = np.abs(U)**2\n",
    "    return Umod2/2"
   ]
  },
  {
   "cell_type": "markdown",
   "id": "a536ae15-3d2c-4b06-ae72-514e063bd7c4",
   "metadata": {},
   "source": [
    "### 2) Definition of the partiel interference pattern"
   ]
  },
  {
   "cell_type": "markdown",
   "id": "245ac4ae-69be-4503-ba61-f2f75d3ce5f3",
   "metadata": {},
   "source": [
    "$$\n",
    "U_{tot} = U_a + U_b = a\\cdot e^{ikr_{AM}} + b\\cdot e^{ikr_{BM}}\n",
    "$$"
   ]
  },
  {
   "cell_type": "code",
   "execution_count": null,
   "id": "1f51ab80-e315-453b-b5e0-0a07d054523f",
   "metadata": {
    "tags": []
   },
   "outputs": [],
   "source": [
    "def InterferenceModule2(x,y,C=1,DPsi=0):\n",
    "    \"\"\"  \n",
    "    Simplified inteferene pattern with no dependence in denominator\n",
    "    \"\"\"\n",
    "    \n",
    "    # compute real positive amplitude from contrast\n",
    "    \n",
    "    cos_beta = np.sqrt((np.sqrt(1-C**2)+1)/2.)   \n",
    "    sin_beta = np.sqrt((1-np.sqrt(1-C**2))/2.)    \n",
    "    k_R = 2.*np.pi/lambda_R\n",
    "    RAM = D_AM(x,y)\n",
    "    RBM = D_BM(x,y)\n",
    "    \n",
    "    Ua = cos_beta*np.exp(1j*DPsi/2)*np.exp(1j*k_R*RAM)\n",
    "    Ub = sin_beta*np.exp(1j*DPsi/2)*np.exp(1j*k_R*RBM)\n",
    "    \n",
    "    U = Ua+Ub\n",
    "    Umod2 = np.abs(U)**2\n",
    "    return Umod2/2"
   ]
  },
  {
   "cell_type": "markdown",
   "id": "322849b4-56ae-454b-b067-bd4a155c7e7a",
   "metadata": {},
   "source": [
    "### 3) Definition of the simplified interference pattern"
   ]
  },
  {
   "cell_type": "markdown",
   "id": "84a81d1c-82a2-4394-94c2-34bd4ca14fe9",
   "metadata": {},
   "source": [
    "$$\n",
    "I = \\| U_{tot} \\|^2 \\propto 1 +  \\sin 2\\beta \\cdot \\cos \\left( k\\frac{d_R\\cdot x}{D_R}  -  \\Delta \\psi \\right) =  1 +  \\sin 2\\beta \\cdot \\cos \\left( 2\\pi \\frac{d_R\\cdot x}{\\lambda_F D_R}  -  \\Delta \\psi \\right) \n",
    "$$"
   ]
  },
  {
   "cell_type": "code",
   "execution_count": null,
   "id": "9aec1f91-a321-4af0-a378-b6437cf5f3dc",
   "metadata": {},
   "outputs": [],
   "source": [
    "def InterferenceModule1D_3(x,C=0.5,DPsi=0):\n",
    "    \"\"\"\n",
    "    Ultra simplifid \n",
    "    \"\"\"\n",
    "    cos_beta = np.sqrt((np.sqrt(1-C**2)+1)/2.)   \n",
    "    sin_beta = np.sqrt((1-np.sqrt(1-C**2))/2.)    \n",
    "    k_R = 2.*np.pi/lambda_R\n",
    "    \n",
    "    I = (1+C*np.cos(k_R*dR*x/DR -DPsi))/2.\n",
    "    return I"
   ]
  },
  {
   "cell_type": "code",
   "execution_count": null,
   "id": "684afa12-8e53-4401-b1be-29330aab3e71",
   "metadata": {
    "tags": []
   },
   "outputs": [],
   "source": [
    "def InterferenceModule1D_1(x,C=0.5,DPsi=0):\n",
    "    return InterferenceModule1(x,0.,C=C,DPsi=DPsi)\n",
    "def InterferenceModule1D_2(x,C=0.5,DPsi=0):\n",
    "    return InterferenceModule2(x,0.,C=C,DPsi=DPsi)    "
   ]
  },
  {
   "cell_type": "code",
   "execution_count": null,
   "id": "52d051d9-5fb9-49b7-89f9-db4f40ab30a4",
   "metadata": {
    "tags": []
   },
   "outputs": [],
   "source": [
    "def InterferenceModule1D_1_A(x,C=0.5,DPsi=0):\n",
    "    return InterferenceModule1D_1((x+dR/2),C=C,DPsi=DPsi)\n",
    "def InterferenceModule1D_2_A(x,C=0.5,DPsi=0):\n",
    "    return InterferenceModule1D_2((x+dR/2),C=C,DPsi=DPsi)\n",
    "def InterferenceModule1D_3_A(x,C=0.5,DPsi=0):\n",
    "    return InterferenceModule1D_3((x+dR/2),C=C,DPsi=DPsi)"
   ]
  },
  {
   "cell_type": "markdown",
   "id": "4c446d48-2267-4312-8d1b-a1c84523ab6d",
   "metadata": {},
   "source": [
    "## Plot Interference pattern and differences"
   ]
  },
  {
   "cell_type": "code",
   "execution_count": null,
   "id": "5a2487df-cf47-4d78-951b-0d6cf29ceace",
   "metadata": {
    "tags": []
   },
   "outputs": [],
   "source": [
    "# Beam contrast (between 0 and 1)\n",
    "C=0.5\n",
    "# Phase shift in radians\n",
    "DPSI = 0"
   ]
  },
  {
   "cell_type": "markdown",
   "id": "07ee982c-dc58-4088-ad23-0bd987ad0390",
   "metadata": {},
   "source": [
    "### Interference on 100 microns"
   ]
  },
  {
   "cell_type": "code",
   "execution_count": null,
   "id": "5fdb1375-49d1-43df-8ac7-68819cfa092b",
   "metadata": {
    "tags": []
   },
   "outputs": [],
   "source": [
    "x = np.linspace(-.05,0.05,5000)\n",
    "y1 = InterferenceModule1D_1_A(x,C,DPSI) \n",
    "y2 = InterferenceModule1D_2_A(x,C,DPSI) \n",
    "y3 = InterferenceModule1D_3_A(x,C,DPSI)\n",
    "\n",
    "fig,(ax1,ax2,ax3)  = plt.subplots(3,1,figsize=(14,6),layout=\"constrained\",sharex=True,sharey=True)\n",
    "ax1.plot(x,y1,'r',label = \"y1 : full formula\")\n",
    "ax2.plot(x,y2,'b',label = \"y2 : partiel formula\")\n",
    "ax3.plot(x,y3,'k',label = \"y3 : simplified formula\")\n",
    "ax1.grid(); ax1.legend()\n",
    "ax2.grid(); ax2.legend()\n",
    "ax3.grid(); ax3.legend()\n",
    "\n",
    "\n",
    "ax1.set_title(\"Interference pattern between on 0.1 mm\")\n",
    "ax3.set_xlabel(\"x (mm)\")\n",
    "ax1.set_ylabel(\"y1\")\n",
    "ax2.set_ylabel(\"y2\")\n",
    "ax3.set_ylabel(\"y3\")\n",
    "ax1.set_ylim(-0.1,1.1)"
   ]
  },
  {
   "cell_type": "markdown",
   "id": "08fcde27-48ea-4abd-bfe4-21e771240acf",
   "metadata": {},
   "source": [
    "## Optical depth\n",
    "\n",
    "- Perhaps should change the name because it is homogenous to an optical length"
   ]
  },
  {
   "cell_type": "markdown",
   "id": "f65e7a69-1236-4cc7-bd00-0b810a7cd75c",
   "metadata": {},
   "source": [
    "$$\n",
    "\\Delta (E_{rec}(x,\\lambda_R)) = \\frac{\\Delta_{max}(\\lambda_R) }{ 1 + \\exp\\{ -\\gamma\\left(\\frac{E_{rec}(x)-E_0 }{E_0}\\right)\\}}\n",
    "$$"
   ]
  },
  {
   "cell_type": "code",
   "execution_count": null,
   "id": "db7c605b-1ba8-4d25-88d0-3d8faf172291",
   "metadata": {},
   "outputs": [],
   "source": [
    "thegamma = 6.5\n",
    "deltamax = 550 # nm\n",
    "delta_erec = lambda erec : deltamax/(1+np.exp(-thegamma*(erec-1))) "
   ]
  },
  {
   "cell_type": "markdown",
   "id": "f55a5e25-9fad-4942-bed4-30aff5e0e504",
   "metadata": {},
   "source": [
    "### Transmission\n",
    "$$\n",
    "t(x,\\lambda) = \\exp\\left\\{i 2\\pi \\frac{\\Delta E_{rec}(x,\\lambda_R)}{\\lambda}\\right\\}\n",
    "$$"
   ]
  },
  {
   "cell_type": "code",
   "execution_count": null,
   "id": "c85bc9ef-4fda-44fe-8361-b0511dd60899",
   "metadata": {},
   "outputs": [],
   "source": [
    "def Holo_Phase_1A(x):\n",
    "\n",
    "    return 2.*np.pi/wl_nm*delta_erec(InterferenceModule1D_1_A(x,C,DPSI))  \n",
    "def Holo_Phase_2A(x):\n",
    "    \"\"\"\n",
    "    \"\"\"\n",
    "    return 2.*np.pi/wl_nm*delta_erec(InterferenceModule1D_2_A(x,C,DPSI))\n",
    "def Holo_Phase_3A(x):\n",
    "    \"\"\"\n",
    "    \"\"\"\n",
    "    return 2.*np.pi/wl_nm*delta_erec(InterferenceModule1D_3_A(x,C,DPSI))"
   ]
  },
  {
   "cell_type": "code",
   "execution_count": null,
   "id": "6a25a3a5-347f-44ec-b8de-3df3b0dfa92a",
   "metadata": {},
   "outputs": [],
   "source": [
    "NPOINTS = 10000\n",
    "x = np.linspace(-.05,0.05,NPOINTS) \n",
    "delta_x = x.max()-x.min()\n",
    "dx = np.diff(x).mean()\n",
    "y_holo_ph_1A = Holo_Phase_1A(x)\n",
    "y_holo_ph_2A = Holo_Phase_2A(x)\n",
    "y_holo_ph_3A = Holo_Phase_3A(x)\n",
    "\n",
    "fig,ax  = plt.subplots(1,1,figsize=(14,4),layout=\"constrained\",sharex=True)\n",
    "ax.plot(x,y_holo_ph_1A,'-r',label = \"hologram phase : full model formula\")\n",
    "ax.plot(x,y_holo_ph_2A,':b',label = \"hologram phase : partial model formula\")\n",
    "ax.set_xlabel(\"x (mm)\")\n",
    "ax.set_ylabel(\"$\\\\phi(x)$\")\n",
    "ax.legend()\n",
    "ax.set_title(f\"Hologram phase modulation over {delta_x} mm\")"
   ]
  },
  {
   "cell_type": "code",
   "execution_count": null,
   "id": "ff67a4aa-b170-4575-b51e-f415265aa9f2",
   "metadata": {},
   "outputs": [],
   "source": [
    "def holo_transmission_1A(x):\n",
    "    y = np.exp(1j*Holo_Phase_1A(x))\n",
    "    ycut = np.where(np.logical_or(x<-beam_radius_mm,x>beam_radius_mm),0.,y)\n",
    "    return ycut\n",
    "\n",
    "def holo_transmission_2A(x):\n",
    "    y = np.exp(1j*Holo_Phase_2A(x)) \n",
    "    ycut = np.where(np.logical_or(x<-beam_radius_mm,x>beam_radius_mm),0.,y)\n",
    "    return ycut\n",
    " \n",
    "def holo_transmission_3A(x):\n",
    "    y = np.exp(1j*Holo_Phase_3A(x)) \n",
    "    ycut = np.where(np.logical_or(x<-beam_radius_mm,x>beam_radius_mm),0.,y)\n",
    "    return ycut"
   ]
  },
  {
   "cell_type": "markdown",
   "id": "0de85ba1-334c-4a9f-9333-4bb6fdc60229",
   "metadata": {},
   "source": [
    "## FFT 1D"
   ]
  },
  {
   "cell_type": "markdown",
   "id": "35b15a2f-fc51-451a-98ee-ffdd60745f35",
   "metadata": {},
   "source": [
    "### Parameters of the FFT"
   ]
  },
  {
   "cell_type": "code",
   "execution_count": null,
   "id": "67f85da6-85a2-4bb2-9a1c-92a143838139",
   "metadata": {
    "tags": []
   },
   "outputs": [],
   "source": [
    "#Nb = 10001\n",
    "#Nb = 20001\n",
    "Nb = 100001\n",
    "padding_factor = 1.5"
   ]
  },
  {
   "cell_type": "markdown",
   "id": "39449496-4ae9-4d85-943d-7cf7c4ae9941",
   "metadata": {},
   "source": [
    "#### The xe sampling"
   ]
  },
  {
   "cell_type": "code",
   "execution_count": null,
   "id": "3ea36e71-b27f-490f-892c-e15392f4e3cf",
   "metadata": {
    "tags": []
   },
   "outputs": [],
   "source": [
    "# x in units of mm\n",
    "xe = np.linspace(-beam_radius_mm*padding_factor,+beam_radius_mm*padding_factor,Nb)\n",
    "dxe = np.diff(xe).mean()\n",
    "fe = 1/dxe\n",
    "fmax = fe/2"
   ]
  },
  {
   "cell_type": "code",
   "execution_count": null,
   "id": "842e81df-0e6b-4a3b-ac12-ee9e0d1e136a",
   "metadata": {
    "tags": []
   },
   "outputs": [],
   "source": [
    "print(f\"Sampling distance dxe = {dxe} mm \")\n",
    "print(f\"Sampling frequency fe = {fe:.3f} mm -1\")\n",
    "print(f\"Max signal requency fmax = {fmax:.3f} mm -1 before aliasing\")\n",
    "print(f\"Beam radius = {beam_radius_mm} mm\")\n",
    "print(f\"Beam radius frequency = {1/beam_radius_mm} mm-1\")"
   ]
  },
  {
   "cell_type": "markdown",
   "id": "34c9e1a6-5755-4944-a962-29767a5f19d3",
   "metadata": {},
   "source": [
    "#### The input aperture"
   ]
  },
  {
   "cell_type": "code",
   "execution_count": null,
   "id": "31a9d12f-25e2-4547-a3e2-1e071d218605",
   "metadata": {
    "tags": []
   },
   "outputs": [],
   "source": [
    "ap = set_beam_aperture(xe)"
   ]
  },
  {
   "cell_type": "code",
   "execution_count": null,
   "id": "8b6e983e-6320-49b6-b92b-64fb71a9129a",
   "metadata": {
    "tags": []
   },
   "outputs": [],
   "source": [
    "fig,ax = plt.subplots(1,1,figsize=(16,4))\n",
    "x = xe\n",
    "y = ap\n",
    "ax.plot(x,y,'b-')\n",
    "ax.grid()\n",
    "ax.set_title(f\"Beam aperture\")\n",
    "ax.set_xlabel(\"mm\")"
   ]
  },
  {
   "cell_type": "markdown",
   "id": "9f6894e5-433b-402e-8ff4-f8b907968e3c",
   "metadata": {},
   "source": [
    "#### The signals"
   ]
  },
  {
   "cell_type": "code",
   "execution_count": null,
   "id": "930a3308-d955-41cc-a451-5b6ba25c98e6",
   "metadata": {
    "tags": []
   },
   "outputs": [],
   "source": [
    "y1 = holo_transmission_1A(xe)\n",
    "y2 = holo_transmission_2A(xe)\n",
    "y3 = holo_transmission_3A(xe)"
   ]
  },
  {
   "cell_type": "code",
   "execution_count": null,
   "id": "e9e569c9-bc89-424f-9eeb-d0ccc59ad00e",
   "metadata": {
    "tags": []
   },
   "outputs": [],
   "source": [
    "fig,axs = plt.subplots(3,2,figsize=(16,10),layout=\"constrained\",sharex=True)\n",
    "ax1,ax2,ax3,ax4,ax5,ax6 = axs.flatten()\n",
    "ax1.plot(xe,y1.real,\"o-r\")\n",
    "ax2.plot(xe,y1.imag,\"o-r\")\n",
    "ax1.set_title(\"real part\")\n",
    "ax2.set_title(\"imag part\")\n",
    "ax1.set_ylabel(\"y1\")\n",
    "\n",
    "\n",
    "ax3.plot(xe,y2.real,\"o-b\")\n",
    "ax4.plot(xe,y2.imag,\"o-b\")\n",
    "ax3.set_ylabel(\"y2\")\n",
    "\n",
    "ax5.plot(xe,y3.real,\"o-k\")\n",
    "ax6.plot(xe,y3.imag,\"o-k\")\n",
    "ax5.set_ylabel(\"y3\")\n",
    "ax5.set_xlabel(\"x (mm)\")\n",
    "ax6.set_xlabel(\"x (mm)\")\n",
    "\n",
    "ax1.set_xlim(-0.05,0.05)\n",
    "ax1.grid()\n",
    "ax2.grid()\n",
    "ax3.grid()\n",
    "ax4.grid()\n",
    "ax5.grid()\n",
    "ax6.grid()"
   ]
  },
  {
   "cell_type": "markdown",
   "id": "6a88e07e-0756-4c8b-992b-acdc1422900a",
   "metadata": {},
   "source": [
    "### FFT for the beam with the optical element in place : Phase\n",
    "\n",
    "In order that the two level of $ye$ to be in opposite phase, we must have\n",
    "- $phase = \\pi$ when ye =1\n",
    "- $phase = 0$ when ye =0"
   ]
  },
  {
   "cell_type": "code",
   "execution_count": null,
   "id": "6eb55bc3-3813-4d27-b136-70bc149f294f",
   "metadata": {
    "tags": []
   },
   "outputs": [],
   "source": [
    "def ComputeFFT(r):\n",
    "    \"\"\"\n",
    "    \"\"\"\n",
    "    sp = np.fft.fft(r)\n",
    "    # the frequency in units of mm^-1\n",
    "    # do a deep copy\n",
    "    freq = np.array(np.fft.fftfreq(r.shape[-1], d=dxe))\n",
    "    real = np.array(sp.real)\n",
    "    imag = np.array(sp.imag)\n",
    "    module = np.array(np.abs(sp))\n",
    "    phase = np.array(np.angle(sp))\n",
    "    \n",
    "    freq = np.fft.fftshift(freq)\n",
    "    real = np.fft.fftshift(real)\n",
    "    imag = np.fft.fftshift(imag)\n",
    "    module = np.fft.fftshift(module)\n",
    "    phase = np.fft.fftshift(phase)\n",
    "    N = len(freq)\n",
    "    return freq,real,imag,module,phase\n",
    "    "
   ]
  },
  {
   "cell_type": "code",
   "execution_count": null,
   "id": "309ac228-c3f8-4ca0-b8e7-3f53502d84a6",
   "metadata": {
    "tags": []
   },
   "outputs": [],
   "source": [
    "freqa,reala,imaga,modulea,phasea = ComputeFFT(ap)\n",
    "freq1,real1,imag1,module1,phase1 = ComputeFFT(y1)\n",
    "freq2,real2,imag2,module2,phase2 = ComputeFFT(y2)\n",
    "freq3,real3,imag3,module3,phase3 = ComputeFFT(y3)"
   ]
  },
  {
   "cell_type": "markdown",
   "id": "0ca98910-d855-43e8-b8bf-29962841cdab",
   "metadata": {},
   "source": [
    "### Order 1 and order 2 components"
   ]
  },
  {
   "cell_type": "code",
   "execution_count": null,
   "id": "4a02c8c2-acf5-429d-87d2-b85e75209b23",
   "metadata": {
    "tags": []
   },
   "outputs": [],
   "source": [
    "# compute the spatial frequency where the order 1 and 2 are\n",
    "f_order1 = Neff\n",
    "f_order2 = 2*Neff\n",
    "f_order3 = 3*Neff"
   ]
  },
  {
   "cell_type": "code",
   "execution_count": null,
   "id": "1717bed4-44a0-489b-a2f6-ecd42fd81c0d",
   "metadata": {
    "tags": []
   },
   "outputs": [],
   "source": [
    "def plot_orders_regions(ax,df=1/beam_radius_mm):\n",
    "    \"\"\"\n",
    "    \n",
    "    \"\"\"\n",
    "\n",
    "    ax.axvline(x=df,c=\"pink\",ls=\":\",label=\"order 0\")\n",
    "    ax.axvline(x=-df,c=\"pink\",ls=\":\")\n",
    "\n",
    "    if f_order1 < fmax:\n",
    "        ax.axvline(x=f_order1+df,ls = \":\",color=\"purple\",label=\"order 1\")\n",
    "        ax.axvline(x=f_order1-df,ls = \":\",color=\"purple\")\n",
    "        ax.axvline(x=-f_order1-df,ls = \":\",color=\"purple\")\n",
    "        ax.axvline(x=-f_order1+df,ls = \":\",color=\"purple\")\n",
    "       \n",
    "    if f_order2 < fmax:\n",
    "        ax.axvline(x=f_order2+df,ls = \":\",color=\"cyan\",label=\"order 2\")\n",
    "        ax.axvline(x=f_order2-df,ls = \":\",color=\"cyan\")\n",
    "        ax.axvline(x= - f_order2-df,ls = \":\",color=\"cyan\")\n",
    "        ax.axvline(x= - f_order2+df,ls = \":\",color=\"cyan\")"
   ]
  },
  {
   "cell_type": "markdown",
   "id": "3cbc6529-2934-4471-b9c4-5b8150fb52e3",
   "metadata": {},
   "source": [
    "## Plot FFT components\n",
    "- a) real part\n",
    "- b) imaginary part\n",
    "- c) module\n",
    "- d) phase"
   ]
  },
  {
   "cell_type": "markdown",
   "id": "207b627c-ad88-4c52-a4ca-d7556518bb43",
   "metadata": {},
   "source": [
    "## Choose wat to plot"
   ]
  },
  {
   "cell_type": "code",
   "execution_count": null,
   "id": "450ad047-82ba-4ee5-99ed-8b0e6c8f9a99",
   "metadata": {
    "tags": []
   },
   "outputs": [],
   "source": [
    "FLAG_FULL_INTERF = True\n",
    "FLAG_PARTIAL_INTERF = False\n",
    "FLAG_SIMPLE_INTERF = False\n",
    "\n",
    "if FLAG_FULL_INTERF:\n",
    "    freq,real,imag,module,phase  = freq1,real1,imag1,module1,phase1 \n",
    "    tag = \"full true interference pattern\"\n",
    "elif FLAG_PARTIAL_INTERF:\n",
    "    freq,real,imag,module,phase  = freq2,real2,imag2,module2,phase2\n",
    "    tag = \"approximate interference pattern\"\n",
    "else:\n",
    "    freq,real,imag,module,phase  = freq3,real3,imag3,module3,phase3\n",
    "    tag = \"oversimplified interference pattern\""
   ]
  },
  {
   "cell_type": "code",
   "execution_count": null,
   "id": "40a162c9-13d5-4257-b5fa-47d6f4180413",
   "metadata": {
    "tags": []
   },
   "outputs": [],
   "source": [
    "def plotFFT(freq,real,imag,module,phase):\n",
    "    \"\"\"\n",
    "    \"\"\"\n",
    "    fig,(ax1,ax2,ax3,ax4) = plt.subplots(4,1,figsize=(16,16),sharex=True)\n",
    "\n",
    "    ax1.plot(freq, real, 'b',lw=3, label = \"real\")\n",
    "    ax1.grid()\n",
    "    plot_orders_regions(ax1)\n",
    "\n",
    "    ax2.plot(freq, imag, 'r',lw=3, label = \"imag\")\n",
    "    plot_orders_regions(ax2)\n",
    "    ax2.grid()\n",
    "\n",
    "    ax3.plot(freq, module, c='magenta',lw=3, label = \"mod\")\n",
    "    plot_orders_regions(ax3)\n",
    "    ax3.grid()\n",
    "\n",
    "    ax4.plot(freq, convert_angle_to_mpi_ppi_interval(phase),'.g',lw=3, label = \"phase\")\n",
    "    plot_orders_regions(ax4)\n",
    "    ax4.grid()\n",
    "    ax4.set_xlabel(\"frequency in mm$^{-1}$\")\n",
    "\n",
    "\n",
    "    ax1.legend()\n",
    "    ax1.set_ylabel(\"FFT real\")\n",
    "    ax2.legend()\n",
    "    ax2.set_ylabel(\"FFT imag\")\n",
    "    ax3.legend()\n",
    "    ax3.set_ylabel(\"FFT mod\")\n",
    "    ax4.legend()\n",
    "    ax4.set_ylabel(\"FFT phase\")\n",
    "    return ax1"
   ]
  },
  {
   "cell_type": "code",
   "execution_count": null,
   "id": "3a080770-aa45-4a00-beb1-6fc4a7f41223",
   "metadata": {
    "tags": []
   },
   "outputs": [],
   "source": [
    "ax = plotFFT(freq,real,imag,module,phase)\n",
    "ax.set_xlim(-f_order3,f_order3)\n",
    "ax.set_title(f\"FFT of HOE for {tag} \")"
   ]
  },
  {
   "cell_type": "code",
   "execution_count": null,
   "id": "9d1c68fa-f3ee-488f-b35a-7cabf54b90f1",
   "metadata": {
    "tags": []
   },
   "outputs": [],
   "source": [
    "ax = plotFFT(freq3,real3,imag3,module3,phase3)\n",
    "ax.set_xlim(-f_order3,f_order3)\n",
    "ax.set_title(\"FFT of y3 : simplified interference pattern\")"
   ]
  },
  {
   "cell_type": "markdown",
   "id": "6080dd7a-0e56-4a0c-b948-94db5974a982",
   "metadata": {},
   "source": [
    "#### Plot the FFT coefficients in the aperture diffractive region"
   ]
  },
  {
   "cell_type": "code",
   "execution_count": null,
   "id": "dc037f58-aaca-47d4-9b1f-800e884661a8",
   "metadata": {
    "tags": []
   },
   "outputs": [],
   "source": [
    "print(f\"Beam radius = {beam_radius_mm} mm\")\n",
    "print(f\"Beam radius frequency = {1/beam_radius_mm} mm-1\")"
   ]
  },
  {
   "cell_type": "code",
   "execution_count": null,
   "id": "86e889ef-8a03-4012-bb0b-1511ad983ea1",
   "metadata": {
    "tags": []
   },
   "outputs": [],
   "source": [
    "fig,(ax1,ax2,ax3)  = plt.subplots(3,1,figsize=(12,12),layout=\"constrained\")\n",
    "\n",
    "DF = 3*1/beam_radius_mm\n",
    "\n",
    "ax1.plot(freq,real,marker=\".\",c=\"b\",label=\"real part\")\n",
    "ax1.plot(freq,imag,marker=\".\",c=\"r\",label=\"imag part\")\n",
    "ax1.plot(freq,module,marker=\"o\",c=\"k\",label=\"module\")\n",
    "ax1.set_ylabel(\"FFT\")\n",
    "ax1.set_xlim(-DF,DF)\n",
    "\n",
    "ax1.set_xlabel(\"frequency in mm$^{-1}$\")\n",
    "ax1.axvline(x=1/beam_radius_mm,c=\"g\",ls=\"--\",label=\"f = $1/r_{beam}$\")\n",
    "ax1.axvline(x=-1/beam_radius_mm,c=\"g\",ls=\"--\")\n",
    "ax1.grid()\n",
    "ax1.legend()\n",
    "ax1.set_title(f\"{tag}: First Fourier components (order 0)\")\n",
    "\n",
    "\n",
    "ax2.plot(freq,real,marker=\".\",c=\"b\",label=\"real part\")\n",
    "ax2.plot(freq,imag,marker=\".\",c=\"r\",label=\"imag part\")\n",
    "ax2.plot(freq,module,marker=\"o\",c=\"k\",label=\"module\")\n",
    "ax2.set_ylabel(\"FFT\")\n",
    "ax2.set_xlim( f_order1 -DF , f_order1+ DF)\n",
    "\n",
    "ax2.set_xlabel(\"frequency in mm$^{-1}$\")\n",
    "ax2.axvline(x=f_order1 + 1/beam_radius_mm,c=\"g\",ls=\"--\",label=\"f = $1/r_{beam}$\")\n",
    "ax2.axvline(x=f_order1 -1/beam_radius_mm,c=\"g\",ls=\"--\")\n",
    "ax2.grid()\n",
    "ax2.legend()\n",
    "ax2.set_title(f\"{tag}: First Fourier components (order +1)\")\n",
    "\n",
    "\n",
    "ax3.plot(freq,real,marker=\".\",c=\"b\",label=\"real part\")\n",
    "ax3.plot(freq,imag,marker=\".\",c=\"r\",label=\"imag part\")\n",
    "ax3.plot(freq,module,marker=\"o\",c=\"k\",label=\"module\")\n",
    "ax3.set_ylabel(\"FFT\")\n",
    "ax3.set_xlim( -f_order1 -DF , -f_order1+ DF)\n",
    "\n",
    "ax3.set_xlabel(\"frequency in mm$^{-1}$\")\n",
    "ax3.axvline(x=-f_order1 + 1/beam_radius_mm,c=\"g\",ls=\"--\",label=\"f = $1/r_{beam}$\")\n",
    "ax3.axvline(x=-f_order1 -1/beam_radius_mm,c=\"g\",ls=\"--\")\n",
    "ax3.grid()\n",
    "ax3.legend()\n",
    "ax3.set_title(f\"{tag}: First Fourier components (order -1)\")\n",
    "\n"
   ]
  },
  {
   "cell_type": "code",
   "execution_count": null,
   "id": "e334af50-3720-4034-9162-65f88a860217",
   "metadata": {
    "tags": []
   },
   "outputs": [],
   "source": [
    "DF = 5*1/beam_radius_mm\n",
    "indexes_order_0 = np.where(np.abs(freq)<DF)[0]\n",
    "indexes_order_p1 = np.where(np.abs(freq-f_order1)<DF)[0]\n",
    "indexes_order_m1 = np.where(np.abs(freq+f_order1)<DF)[0]"
   ]
  },
  {
   "cell_type": "code",
   "execution_count": null,
   "id": "dc15acdc-1a91-47b1-aa66-2af330c9f7fe",
   "metadata": {
    "tags": []
   },
   "outputs": [],
   "source": [
    "fig,(ax1,ax2,ax3) = plt.subplots(1,3,figsize=(20,5),sharex=True,layout=\"constrained\")\n",
    "ax1.bar(freq[indexes_order_0],real[indexes_order_0],width=0.05,facecolor=\"b\",label=\"real part\")\n",
    "ax2.bar(freq[indexes_order_0],imag[indexes_order_0],width=0.05,facecolor=\"r\",label=\"imag part\")\n",
    "ax3.bar(freq[indexes_order_0],module[indexes_order_0],width=0.05,facecolor=\"k\",label=\"module\")\n",
    "ax1.set_ylabel(\"FFT real\")\n",
    "ax2.set_ylabel(\"FFT imag\")\n",
    "ax3.set_ylabel(\"FFT module\")\n",
    "\n",
    "ax1.axvline(x=1/beam_radius_mm  ,c=\"g\",ls=\"--\",label=\"$f = 1/r_{beam}$\")\n",
    "ax2.axvline(x=1/beam_radius_mm  ,c=\"g\",ls=\"--\",label=\"$d = 1/r_{beam}$\")\n",
    "ax3.axvline(x=1/beam_radius_mm  ,c=\"g\",ls=\"--\",label=\"$d = 1/r_{beam}$\")\n",
    "\n",
    "ax1.axvline(x=-1/beam_radius_mm  ,c=\"g\",ls=\"--\")\n",
    "ax2.axvline(x=-1/beam_radius_mm  ,c=\"g\",ls=\"--\")\n",
    "ax3.axvline(x=-1/beam_radius_mm  ,c=\"g\",ls=\"--\")\n",
    "\n",
    "ax3.set_xlabel(\"frequency in mm$^{-1}$\")\n",
    "ax2.set_xlabel(\"frequency in mm$^{-1}$\")\n",
    "ax1.set_xlabel(\"frequency in mm$^{-1}$\")\n",
    "ax1.grid(); ax1.legend()\n",
    "ax2.grid(); ax2.legend()\n",
    "ax3.grid(); ax3.legend()\n",
    "plt.suptitle(f\"{tag}: Coefficients of FFT around order 0\",fontsize=26)"
   ]
  },
  {
   "cell_type": "code",
   "execution_count": null,
   "id": "a5e2bb91-3667-4def-9cb0-f974e71bfae3",
   "metadata": {
    "tags": []
   },
   "outputs": [],
   "source": [
    "fig,(ax1,ax2,ax3) = plt.subplots(1,3,figsize=(20,5),sharex=True,layout=\"constrained\")\n",
    "ax1.bar(freq[indexes_order_p1],real[indexes_order_p1],width=0.05,facecolor=\"b\",label=\"real part\")\n",
    "ax2.bar(freq[indexes_order_p1],imag[indexes_order_p1],width=0.05,facecolor=\"r\",label=\"imag part\")\n",
    "ax3.bar(freq[indexes_order_p1],module[indexes_order_p1],width=0.05,facecolor=\"k\",label=\"module\")\n",
    "ax1.set_ylabel(\"FFT real\")\n",
    "ax2.set_ylabel(\"FFT imag\")\n",
    "ax3.set_ylabel(\"FFT module\")\n",
    "\n",
    "ax1.axvline(x=1/beam_radius_mm + f_order1 ,c=\"g\",ls=\"--\",label=\"$f = 1/r_{beam}$\")\n",
    "ax2.axvline(x=1/beam_radius_mm + f_order1 ,c=\"g\",ls=\"--\",label=\"$d = 1/r_{beam}$\")\n",
    "ax3.axvline(x=1/beam_radius_mm + f_order1 ,c=\"g\",ls=\"--\",label=\"$d = 1/r_{beam}$\")\n",
    "\n",
    "ax1.axvline(x=-1/beam_radius_mm + f_order1 ,c=\"g\",ls=\"--\")\n",
    "ax2.axvline(x=-1/beam_radius_mm + f_order1 ,c=\"g\",ls=\"--\")\n",
    "ax3.axvline(x=-1/beam_radius_mm + f_order1 ,c=\"g\",ls=\"--\")\n",
    "\n",
    "ax3.set_xlabel(\"frequency in mm$^{-1}$\")\n",
    "ax2.set_xlabel(\"frequency in mm$^{-1}$\")\n",
    "ax1.set_xlabel(\"frequency in mm$^{-1}$\")\n",
    "ax1.grid(); ax1.legend()\n",
    "ax2.grid(); ax2.legend()\n",
    "ax3.grid(); ax3.legend()\n",
    "plt.suptitle(f\"{tag}:Coefficients of FFT around order 1\",fontsize=26)"
   ]
  },
  {
   "cell_type": "code",
   "execution_count": null,
   "id": "e652178b-cbd1-440e-8638-a49a3dd3c5fe",
   "metadata": {
    "tags": []
   },
   "outputs": [],
   "source": [
    "fig,(ax1,ax2,ax3) = plt.subplots(1,3,figsize=(20,5),sharex=True,layout=\"constrained\")\n",
    "ax1.bar(freq[indexes_order_m1],real[indexes_order_m1],width=0.05,facecolor=\"b\",label=\"real part\")\n",
    "ax2.bar(freq[indexes_order_m1],imag[indexes_order_m1],width=0.05,facecolor=\"r\",label=\"imag part\")\n",
    "ax3.bar(freq[indexes_order_m1],module[indexes_order_m1],width=0.05,facecolor=\"k\",label=\"module\")\n",
    "ax1.set_ylabel(\"FFT real\")\n",
    "ax2.set_ylabel(\"FFT imag\")\n",
    "ax3.set_ylabel(\"FFT module\")\n",
    "\n",
    "ax1.axvline(x=1/beam_radius_mm - f_order1 ,c=\"g\",ls=\"--\",label=\"$f = 1/r_{beam}$\")\n",
    "ax2.axvline(x=1/beam_radius_mm - f_order1 ,c=\"g\",ls=\"--\",label=\"$d = 1/r_{beam}$\")\n",
    "ax3.axvline(x=1/beam_radius_mm - f_order1 ,c=\"g\",ls=\"--\",label=\"$d = 1/r_{beam}$\")\n",
    "\n",
    "ax1.axvline(x=-1/beam_radius_mm - f_order1 ,c=\"g\",ls=\"--\")\n",
    "ax2.axvline(x=-1/beam_radius_mm - f_order1 ,c=\"g\",ls=\"--\")\n",
    "ax3.axvline(x=-1/beam_radius_mm - f_order1 ,c=\"g\",ls=\"--\")\n",
    "\n",
    "ax3.set_xlabel(\"frequency in mm$^{-1}$\")\n",
    "ax2.set_xlabel(\"frequency in mm$^{-1}$\")\n",
    "ax1.set_xlabel(\"frequency in mm$^{-1}$\")\n",
    "ax1.grid(); ax1.legend()\n",
    "ax2.grid(); ax2.legend()\n",
    "ax3.grid(); ax3.legend()\n",
    "plt.suptitle(f\"{tag}:Coefficients of FFT around order -1\",fontsize=26)"
   ]
  },
  {
   "cell_type": "markdown",
   "id": "f4e08381-b867-4a52-a420-47f2bf8b9480",
   "metadata": {},
   "source": [
    "## Transmission efficiency\n",
    "\n",
    "- calculation from the FFT"
   ]
  },
  {
   "cell_type": "code",
   "execution_count": null,
   "id": "ba5c5720-103d-4cb6-85a2-a970ab64b66c",
   "metadata": {
    "tags": []
   },
   "outputs": [],
   "source": [
    "w_factor = 2."
   ]
  },
  {
   "cell_type": "code",
   "execution_count": null,
   "id": "fea2aa1a-2b89-49bf-b9d1-cce9d7650a8f",
   "metadata": {
    "tags": []
   },
   "outputs": [],
   "source": [
    "indexesa_order_0 = np.where(np.abs(freqa)<w_factor/beam_radius_mm)[0]\n",
    "indexes_order_0 = np.where(np.abs(freq)<w_factor/beam_radius_mm)[0]\n",
    "indexes_order_p1 = np.where(np.abs(freq-f_order1)<w_factor/beam_radius_mm)[0]\n",
    "indexes_order_m1 = np.where(np.abs(freq+f_order1)<w_factor/beam_radius_mm)[0]"
   ]
  },
  {
   "cell_type": "code",
   "execution_count": null,
   "id": "8e4bf56a-effb-4880-baeb-562865741f03",
   "metadata": {
    "tags": []
   },
   "outputs": [],
   "source": [
    "coeffa_order_0 = modulea[indexesa_order_0]\n",
    "coeff_order_0 = module[indexes_order_0]\n",
    "coeff_order_p1 = module[indexes_order_p1]\n",
    "coeff_order_m1 = module[indexes_order_m1]"
   ]
  },
  {
   "cell_type": "code",
   "execution_count": null,
   "id": "bbb7f86e-cba2-48f6-9bb9-fb0d0f58195f",
   "metadata": {
    "tags": []
   },
   "outputs": [],
   "source": [
    "efficiency_order0 = (coeff_order_0**2).sum()/(coeffa_order_0**2).sum()\n",
    "efficiency_orderp1 = (coeff_order_p1**2).sum()/(coeffa_order_0**2).sum()\n",
    "efficiency_orderm1 = (coeff_order_m1**2).sum()/(coeffa_order_0**2).sum()"
   ]
  },
  {
   "cell_type": "code",
   "execution_count": null,
   "id": "81ebe28b-7e30-4109-a13e-112c2ea4983a",
   "metadata": {
    "tags": []
   },
   "outputs": [],
   "source": [
    "print(f\"FFT : Transmission efficiency of order 0 : {efficiency_order0:.4f}\")\n",
    "print(f\"FFT : Transmission efficiency of order 1 : {efficiency_orderp1:.4f}\")\n",
    "print(f\"FFT : Transmission efficiency of order -1 : {efficiency_orderm1:.4f}\")"
   ]
  },
  {
   "cell_type": "code",
   "execution_count": null,
   "id": "7cf0b8b7-9bbf-4422-b717-b926af19eb2e",
   "metadata": {
    "tags": []
   },
   "outputs": [],
   "source": [
    "orderp1order0 = (coeff_order_p1**2).sum()/(coeff_order_0**2).sum()\n",
    "orderm1order0 = (coeff_order_m1**2).sum()/(coeff_order_0**2).sum()"
   ]
  },
  {
   "cell_type": "code",
   "execution_count": null,
   "id": "44119238-f78d-4be1-82ad-4211b3d4e479",
   "metadata": {
    "tags": []
   },
   "outputs": [],
   "source": [
    "print(f\"FFT : Transmission radio order +1/ order 0 : {orderp1order0:.4f}\")\n",
    "print(f\"FFT : Transmission radio order -1/ order 0 : {orderm1order0:.4f}\")"
   ]
  },
  {
   "cell_type": "markdown",
   "id": "94b8a87b-173d-4c24-b009-683d393b327e",
   "metadata": {},
   "source": [
    "## Compute Fourier coefficients\n",
    "\n",
    "- For real signal"
   ]
  },
  {
   "cell_type": "markdown",
   "id": "daf7344d-aae2-4760-ae2e-f8fb339d5f7d",
   "metadata": {},
   "source": [
    "- For $n=0$\n",
    "\n",
    "$$\n",
    "a_0 = \\frac{1}{a} \\int_{-a/2}^{a/2} t(x) dx\n",
    "$$\n",
    "\n",
    "- For $n>=1$ or $n <= -1$(better keep order 1 and -1 separately:\n",
    "$$\n",
    "a_n = \\frac{1}{a} \\int_{-a/2}^{a/2} t(x) \\cos(2\\pi n \\frac{x}{a}) dx\n",
    "$$\n",
    "$$\n",
    "b_n = \\frac{1}{a} \\int_{-a/2}^{a/2} t(x) \\sin(2\\pi n \\frac{x}{a}) dx\n",
    "$$\n",
    "$$\n",
    "c_n = \\frac{1}{a} \\int_{-a/2}^{a/2} t(x) \\exp(2\\pi n \\frac{x}{a}) dx\n",
    "$$"
   ]
  },
  {
   "cell_type": "code",
   "execution_count": null,
   "id": "a4dd797d-9eae-41cb-9a03-1745acfec064",
   "metadata": {
    "tags": []
   },
   "outputs": [],
   "source": [
    "xrange = np.linspace(-5*a,5*a,50000) "
   ]
  },
  {
   "cell_type": "code",
   "execution_count": null,
   "id": "43c758b0-326e-4e9d-a378-13a967bed9df",
   "metadata": {
    "tags": []
   },
   "outputs": [],
   "source": [
    "def integrand_an_v0(x, n):\n",
    "    return (set_beam_aperture(x,radius = beam_radius_mm)*np.cos(2*np.pi*n*x/a))/a\n",
    "def integrand_bn_v0(x, n):\n",
    "    return (set_beam_aperture(x,radius = beam_radius_mm)*np.sin(2*np.pi*n*x/a))/a\n",
    "def integrand_cn_v0(x, n):\n",
    "    return (set_beam_aperture(x,radius = beam_radius_mm)*np.exp(2j*np.pi*n*x/a))/a"
   ]
  },
  {
   "cell_type": "code",
   "execution_count": null,
   "id": "1c0ab662-1883-4c93-b842-82ccbd4dc3ab",
   "metadata": {
    "tags": []
   },
   "outputs": [],
   "source": [
    "fig,axs = plt.subplots(3,3,figsize=(18,14),sharex=True,layout=\"constrained\")\n",
    "ax1,ax2,ax3,ax4,ax5,ax6,ax7,ax8,ax9 = axs.flatten()\n",
    "\n",
    "y_a0 = integrand_an_v0(xrange, 0)\n",
    "y_b0 = integrand_bn_v0(xrange, 0)\n",
    "y_c0 = integrand_cn_v0(xrange, 0)\n",
    "\n",
    "y_a1 = integrand_an_v0(xrange, 1)\n",
    "y_b1 = integrand_bn_v0(xrange, 1)\n",
    "y_c1 = integrand_cn_v0(xrange, 1)\n",
    "\n",
    "y_a2 = integrand_an_v0(xrange, 2)\n",
    "y_b2 = integrand_bn_v0(xrange, 2)\n",
    "y_c2 = integrand_cn_v0(xrange, 2)\n",
    "\n",
    "ax1.plot(xrange,y_a0.real,'r-',label=\"re\")\n",
    "ax1.plot(xrange,y_a0.imag,'b-',label=\"img\")\n",
    "ax1.set_title(\"a0\")\n",
    "ax1.axvline(-a/2,color=\"g\")\n",
    "ax1.axvline(a/2,color=\"g\")\n",
    "ax1.legend()\n",
    "\n",
    "ax2.plot(xrange,y_b0.real,'r-',label=\"re\")\n",
    "ax2.plot(xrange,y_b0.imag,'b-',label=\"img\")\n",
    "ax2.set_title(\"b0\")\n",
    "ax2.axvline(-a/2,color=\"g\")\n",
    "ax2.axvline(a/2,color=\"g\")\n",
    "ax2.legend()\n",
    "\n",
    "ax3.plot(xrange,y_c0.real,'r-',label=\"re\")\n",
    "ax3.plot(xrange,y_c0.imag,'b-',label=\"img\")\n",
    "ax3.set_title(\"c0\")\n",
    "ax3.axvline(-a/2,color=\"g\")\n",
    "ax3.axvline(a/2,color=\"g\")\n",
    "ax3.legend()\n",
    "\n",
    "ax4.plot(xrange,y_a1.real,'r-',label=\"re\")\n",
    "ax4.plot(xrange,y_a1.imag,'b-',label=\"img\")\n",
    "ax4.set_title(\"a1\")\n",
    "ax4.axvline(-a/2,color=\"g\")\n",
    "ax4.axvline(a/2,color=\"g\")\n",
    "ax4.legend()\n",
    "\n",
    "ax5.plot(xrange,y_b1.real,'r-',label=\"re\")\n",
    "ax5.plot(xrange,y_b1.imag,'b-',label=\"img\")\n",
    "ax5.set_title(\"b1\")\n",
    "ax5.axvline(-a/2,color=\"g\")\n",
    "ax5.axvline(a/2,color=\"g\")\n",
    "ax5.legend()\n",
    "\n",
    "ax6.plot(xrange,y_c1.real,'r-',label=\"re\")\n",
    "ax6.plot(xrange,y_c1.imag,'b-',label=\"img\")\n",
    "ax6.set_title(\"c1\")\n",
    "ax6.axvline(-a/2,color=\"g\")\n",
    "ax6.axvline(a/2,color=\"g\")\n",
    "ax6.legend()\n",
    "\n",
    "\n",
    "ax7.plot(xrange,y_a2.real,'r-',label=\"re\")\n",
    "ax7.plot(xrange,y_a2.imag,'b-',label=\"img\")\n",
    "ax7.set_title(\"a2\")\n",
    "ax7.axvline(-a/2,color=\"g\")\n",
    "ax7.axvline(a/2,color=\"g\")\n",
    "ax7.legend()\n",
    "\n",
    "\n",
    "ax8.plot(xrange,y_b2.real,'r-',label=\"re\")\n",
    "ax8.plot(xrange,y_b2.imag,'b-',label=\"img\")\n",
    "ax8.set_title(\"b2\")\n",
    "ax8.axvline(-a/2,color=\"g\")\n",
    "ax8.axvline(a/2,color=\"g\")\n",
    "ax8.legend()\n",
    "\n",
    "\n",
    "ax9.plot(xrange,y_c2.real,'r-',label=\"re\")\n",
    "ax9.plot(xrange,y_c2.imag,'b-',label=\"img\")\n",
    "ax9.set_title(\"c2\")\n",
    "ax9.axvline(-a/2,color=\"g\")\n",
    "ax9.axvline(a/2,color=\"g\")\n",
    "ax9.legend()\n",
    "\n",
    "fig.suptitle(f\"Fourier coefficients calculation for beam aperture\",y=1.02,fontsize=25)"
   ]
  },
  {
   "cell_type": "code",
   "execution_count": null,
   "id": "b8a701ae-805d-42ce-8df5-012cfaef7a04",
   "metadata": {
    "tags": []
   },
   "outputs": [],
   "source": [
    "if FLAG_FULL_INTERF:\n",
    "    def integrand_an_v2(x, n):\n",
    "        return (np.cos(2*np.pi*n*x/a)*holo_transmission_1A(x))/a\n",
    "    def integrand_bn_v2(x, n):\n",
    "        return (np.sin(2*np.pi*n*x/a)*holo_transmission_1A(x))/a\n",
    "    def integrand_cn_v2(x, n):\n",
    "        return (np.exp(2j*np.pi*n*x/a)*holo_transmission_1A(x))/a\n",
    "    \n",
    "elif FLAG_PARTIAL_INTERF:\n",
    "    def integrand_an_v2(x, n):\n",
    "        return (np.cos(2*np.pi*n*x/a)*holo_transmission_2A(x))/a\n",
    "    def integrand_bn_v2(x, n):\n",
    "        return (np.sin(2*np.pi*n*x/a)*holo_transmission_2A(x))/a\n",
    "    def integrand_cn_v2(x, n):\n",
    "        return (np.exp(2j*np.pi*n*x/a)*holo_transmission_2A(x))/a\n",
    "    \n",
    "else:\n",
    "    def integrand_an_v2(x, n):\n",
    "        return (np.cos(2*np.pi*n*x/a)*holo_transmission_3A(x))/a\n",
    "    def integrand_bn_v2(x, n):\n",
    "        return (np.sin(2*np.pi*n*x/a)*holo_transmission_3A(x))/a\n",
    "    def integrand_cn_v2(x, n):\n",
    "        return (np.exp(2j*np.pi*n*x/a)*holo_transmission_3A(x))/a\n",
    "    "
   ]
  },
  {
   "cell_type": "code",
   "execution_count": null,
   "id": "778db265-1c65-4b2a-99b5-5cf740690b88",
   "metadata": {
    "tags": []
   },
   "outputs": [],
   "source": [
    "fig,axs = plt.subplots(3,3,figsize=(18,14),sharex=True,layout=\"constrained\")\n",
    "ax1,ax2,ax3,ax4,ax5,ax6,ax7,ax8,ax9 = axs.flatten()\n",
    "\n",
    "y_a0 = integrand_an_v2(xrange, 0)\n",
    "y_b0 = integrand_bn_v2(xrange, 0)\n",
    "y_c0 = integrand_cn_v2(xrange, 0)\n",
    "\n",
    "y_a1 = integrand_an_v2(xrange, 1)\n",
    "y_b1 = integrand_bn_v2(xrange, 1)\n",
    "y_c1 = integrand_cn_v2(xrange, 1)\n",
    "\n",
    "y_a2 = integrand_an_v2(xrange, 2)\n",
    "y_b2 = integrand_bn_v2(xrange, 2)\n",
    "y_c2 = integrand_cn_v2(xrange, 2)\n",
    "\n",
    "ax1.plot(xrange,y_a0.real,'r-',label=\"re\")\n",
    "ax1.plot(xrange,y_a0.imag,'b-',label=\"img\")\n",
    "ax1.set_title(\"a0\")\n",
    "ax1.axvline(-a/2,color=\"g\")\n",
    "ax1.axvline(a/2,color=\"g\")\n",
    "ax1.legend()\n",
    "\n",
    "ax2.plot(xrange,y_b0.real,'r-',label=\"re\")\n",
    "ax2.plot(xrange,y_b0.imag,'b-',label=\"img\")\n",
    "ax2.set_title(\"b0\")\n",
    "ax2.axvline(-a/2,color=\"g\")\n",
    "ax2.axvline(a/2,color=\"g\")\n",
    "ax2.legend()\n",
    "\n",
    "ax3.plot(xrange,y_c0.real,'r-',label=\"re\")\n",
    "ax3.plot(xrange,y_c0.imag,'b-',label=\"img\")\n",
    "ax3.set_title(\"c0\")\n",
    "ax3.axvline(-a/2,color=\"g\")\n",
    "ax3.axvline(a/2,color=\"g\")\n",
    "ax3.legend()\n",
    "\n",
    "ax4.plot(xrange,y_a1.real,'r-',label=\"re\")\n",
    "ax4.plot(xrange,y_a1.imag,'b-',label=\"img\")\n",
    "ax4.set_title(\"a1\")\n",
    "ax4.axvline(-a/2,color=\"g\")\n",
    "ax4.axvline(a/2,color=\"g\")\n",
    "ax4.legend()\n",
    "\n",
    "ax5.plot(xrange,y_b1.real,'r-',label=\"re\")\n",
    "ax5.plot(xrange,y_b1.imag,'b-',label=\"img\")\n",
    "ax5.set_title(\"b1\")\n",
    "ax5.axvline(-a/2,color=\"g\")\n",
    "ax5.axvline(a/2,color=\"g\")\n",
    "ax5.legend()\n",
    "\n",
    "ax6.plot(xrange,y_c1.real,'r-',label=\"re\")\n",
    "ax6.plot(xrange,y_c1.imag,'b-',label=\"img\")\n",
    "ax6.set_title(\"c1\")\n",
    "ax6.axvline(-a/2,color=\"g\")\n",
    "ax6.axvline(a/2,color=\"g\")\n",
    "ax6.legend()\n",
    "\n",
    "\n",
    "ax7.plot(xrange,y_a2.real,'r-',label=\"re\")\n",
    "ax7.plot(xrange,y_a2.imag,'b-',label=\"img\")\n",
    "ax7.set_title(\"a2\")\n",
    "ax7.axvline(-a/2,color=\"g\")\n",
    "ax7.axvline(a/2,color=\"g\")\n",
    "ax7.legend()\n",
    "\n",
    "\n",
    "ax8.plot(xrange,y_b2.real,'r-',label=\"re\")\n",
    "ax8.plot(xrange,y_b2.imag,'b-',label=\"img\")\n",
    "ax8.set_title(\"b2\")\n",
    "ax8.axvline(-a/2,color=\"g\")\n",
    "ax8.axvline(a/2,color=\"g\")\n",
    "ax8.legend()\n",
    "\n",
    "\n",
    "ax9.plot(xrange,y_c2.real,'r-',label=\"re\")\n",
    "ax9.plot(xrange,y_c2.imag,'b-',label=\"img\")\n",
    "ax9.set_title(\"c2\")\n",
    "ax9.axvline(-a/2,color=\"g\")\n",
    "ax9.axvline(a/2,color=\"g\")\n",
    "ax9.legend()\n",
    "fig.suptitle(f\"{tag} : Fourier series coefficients calculation\",y=1.02,fontsize=25)"
   ]
  },
  {
   "cell_type": "markdown",
   "id": "05b37bd5-2b53-4538-b2e1-5044b825e248",
   "metadata": {},
   "source": [
    "### Compute Fourier coefficients"
   ]
  },
  {
   "cell_type": "markdown",
   "id": "e8b788e4-db7b-4b22-89a6-345ce9368bad",
   "metadata": {},
   "source": [
    "#### Order zero coefficients"
   ]
  },
  {
   "cell_type": "markdown",
   "id": "7dcc79bb-91d1-4e53-9325-ba9dc39704a5",
   "metadata": {},
   "source": [
    "##### Order 0 for beam aperture only"
   ]
  },
  {
   "cell_type": "code",
   "execution_count": null,
   "id": "6be160a6-7ab9-47ae-8a18-596e4f58283a",
   "metadata": {},
   "outputs": [],
   "source": [
    "a0_v0 = quad(integrand_an_v0, -a/2, a/2, args=(0,))\n",
    "b0_v0 = quad(integrand_bn_v0, -a/2, a/2, args=(0,))\n",
    "c0_v0 = quad(integrand_cn_v0, -a/2, a/2, args=(0,))\n",
    "# transform tuples from quad function in  complex numbers\n",
    "a0_v1 = a0_v0[0] + 1j* a0_v0[1]\n",
    "b0_v1 = b0_v0[0] + 1j* b0_v0[1]\n",
    "c0_v1 = c0_v0[0] + 1j* c0_v0[1]\n",
    "print(f\"v1 : (a0,b0,c0) = ({a0_v1:.4f},{b0_v1:.4f}, {c0_v1:.4f})\")"
   ]
  },
  {
   "cell_type": "markdown",
   "id": "e379bce5-9843-45dd-9213-f275c863b80d",
   "metadata": {},
   "source": [
    "##### Order 0 from HOE  in beam"
   ]
  },
  {
   "cell_type": "code",
   "execution_count": null,
   "id": "563c26d3-58f5-45ec-a082-ff9926efeaf6",
   "metadata": {},
   "outputs": [],
   "source": [
    "a0_v2 = quad(integrand_an_v2, -a/2, a/2, args=(0,))\n",
    "b0_v2 = quad(integrand_bn_v2, -a/2, a/2, args=(0,))\n",
    "c0_v2 = quad(integrand_cn_v2, -a/2, a/2, args=(0,))\n",
    "# transform tuples from quad function in  complex numbers\n",
    "a0_v3 = a0_v2[0] + 1j* a0_v2[1]\n",
    "b0_v3 = b0_v2[0] + 1j* b0_v2[1]\n",
    "c0_v3 = c0_v2[0] + 1j* c0_v2[1]\n",
    "print(f\"v3 : (a0,b0,c0) = ({a0_v3:.4f},{b0_v3:.4f}, {c0_v3:.4f})\")"
   ]
  },
  {
   "cell_type": "markdown",
   "id": "61ff63b2-482b-4b95-be97-612328d247d6",
   "metadata": {},
   "source": [
    "- **Notice No order 0 in HOE**"
   ]
  },
  {
   "cell_type": "markdown",
   "id": "b69edced-00a5-4f66-b381-724afad23e4c",
   "metadata": {},
   "source": [
    "#### Order 1 coefficients"
   ]
  },
  {
   "cell_type": "markdown",
   "id": "164fc316-920e-4d59-860b-e8acdf713edd",
   "metadata": {},
   "source": [
    "##### Order 1 from  beam aperture"
   ]
  },
  {
   "cell_type": "code",
   "execution_count": null,
   "id": "defd659c-846f-4d76-9dad-ee4c04ab6825",
   "metadata": {},
   "outputs": [],
   "source": [
    "a1_v0 = quad(integrand_an_v0, -a/2, a/2, args=(1,))\n",
    "b1_v0 = quad(integrand_bn_v0, -a/2, a/2, args=(1,))\n",
    "c1_v0 = quad(integrand_cn_v0, -a/2, a/2, args=(1,))\n",
    "# transform tuples from quad function in  complex numbers\n",
    "a1_v1 = a1_v0[0] + 1j* a1_v0[1]\n",
    "b1_v1 = b1_v0[0] + 1j* b1_v0[1]\n",
    "c1_v1 = c1_v0[0] + 1j* c1_v0[1]\n",
    "print(f\"v1 : (a1,b1,c1) = ({a1_v1:.4f},{b1_v1:.4f},{c1_v1:.4f})\")"
   ]
  },
  {
   "cell_type": "markdown",
   "id": "c34b5ff7-5e36-4621-acd4-d4215c610d5f",
   "metadata": {},
   "source": [
    "- **Notice No order 1 in aperture beam**"
   ]
  },
  {
   "cell_type": "markdown",
   "id": "22e95559-cbad-4159-a503-775d6d564f1b",
   "metadata": {},
   "source": [
    "##### Order 1 from HOE  in beam"
   ]
  },
  {
   "cell_type": "code",
   "execution_count": null,
   "id": "daccfa60-6652-4b90-aab8-5af2a4c078d4",
   "metadata": {},
   "outputs": [],
   "source": [
    "a1_v2 = quad(integrand_an_v2, -a/2, a/2, args=(1,))\n",
    "b1_v2 = quad(integrand_bn_v2, -a/2, a/2, args=(1,))\n",
    "c1_v2 = quad(integrand_cn_v2, -a/2, a/2, args=(1,))\n",
    "\n",
    "# transform tuples in  complex numbers\n",
    "a1_v3 = a1_v2[0] + 1j* a1_v2[1]\n",
    "b1_v3 = b1_v2[0] + 1j* b1_v2[1]\n",
    "c1_v3 = c1_v2[0] + 1j* c1_v2[1]\n",
    "print(f\"v3 : (a1,b1,c1) = ({a1_v3:.4f},{b1_v3:.4f},{c1_v3:.4f})\")"
   ]
  },
  {
   "cell_type": "markdown",
   "id": "9bfaf65a-4693-469a-80d1-60f095f97fbb",
   "metadata": {},
   "source": [
    "- **Note Presence of order 1 in HOE**"
   ]
  },
  {
   "cell_type": "markdown",
   "id": "0830af4c-de2c-4f29-8c54-3d2451a2a18f",
   "metadata": {},
   "source": [
    "#### Other Orders n>=2 coefficients"
   ]
  },
  {
   "cell_type": "code",
   "execution_count": null,
   "id": "fef1c0ef-efdf-48c1-9124-63ea1f8a4567",
   "metadata": {},
   "outputs": [],
   "source": [
    "sum_supp2_ab = 0\n",
    "sum_supp2_c = 0\n",
    "\n",
    "for n in range(2,10):\n",
    "    an = quad(integrand_an_v0, -a/2, a/2, args=(n,))\n",
    "    bn = quad(integrand_bn_v0, -a/2, a/2, args=(n,))\n",
    "    cn = quad(integrand_cn_v0, -a/2, a/2, args=(n,))\n",
    "    \n",
    "    # convert tuple into complex number\n",
    "    an_v0 = an[0]+ 1j*an[1]\n",
    "    bn_v0 = bn[0]+ 1j*bn[1]\n",
    "    cn_v0 = cn[0]+ 1j*cn[1]\n",
    "\n",
    "    sum_supp2_ab += np.absolute(an_v0)**2 + np.absolute(bn_v0)**2 \n",
    "    sum_supp2_c += np.absolute(cn_v0)**2 \n",
    "print(sum_supp2_ab,sum_supp2_c)"
   ]
  },
  {
   "cell_type": "markdown",
   "id": "21fc1553-76f1-4230-8162-50fd5c5107d1",
   "metadata": {},
   "source": [
    "- **Notice no other orders $n\\ge2$ in aperture beam**"
   ]
  },
  {
   "cell_type": "code",
   "execution_count": null,
   "id": "453eb783-6803-4aa6-9a48-9b4a0516a540",
   "metadata": {},
   "outputs": [],
   "source": [
    "sum_supp2_v2_ab = 0\n",
    "sum_supp2_v2_c = 0\n",
    "for n in range(2,10):\n",
    "    an = quad(integrand_an_v2, -a/2, a/2, args=(n,))\n",
    "    bn = quad(integrand_bn_v2, -a/2, a/2, args=(n,))\n",
    "    cn = quad(integrand_cn_v2, -a/2, a/2, args=(n,))\n",
    "    \n",
    "    # convert tuple into complex number\n",
    "    an_v2 = an[0]+ 1j*an[1]\n",
    "    bn_v2 = bn[0]+ 1j*bn[1]\n",
    "    cn_v2 = cn[0]+ 1j*cn[1]\n",
    "    \n",
    "    sum_supp2_v2_ab += np.absolute(an_v2)**2 + np.absolute(bn_v2)**2 \n",
    "    sum_supp2_v2_c += np.absolute(cn_v2)**2 \n",
    "print(sum_supp2_v2_ab,sum_supp2_v2_c)"
   ]
  },
  {
   "cell_type": "markdown",
   "id": "da9a7743-8332-4ee3-b9b4-31b51fef375f",
   "metadata": {},
   "source": [
    " **Notice Very small contribution of other orders $n\\ge2$ in HOE**"
   ]
  },
  {
   "cell_type": "markdown",
   "id": "575044ad-ebe7-4458-b385-b17dcbf5ccc0",
   "metadata": {},
   "source": [
    "### Transmission efficiency and order ratio\n",
    "\n",
    "- with respect to no HOE in beam"
   ]
  },
  {
   "cell_type": "markdown",
   "id": "ac6ba15c-6ff1-4772-9eee-2aa61ce2a9eb",
   "metadata": {},
   "source": [
    "#### Efficiency"
   ]
  },
  {
   "cell_type": "code",
   "execution_count": null,
   "id": "bdc2e129-63a9-49c0-8b7f-185530137776",
   "metadata": {},
   "outputs": [],
   "source": [
    "c0_v1"
   ]
  },
  {
   "cell_type": "code",
   "execution_count": null,
   "id": "0072f4e8-1ee5-43c5-80f3-4367766b889c",
   "metadata": {},
   "outputs": [],
   "source": [
    "c1_v3"
   ]
  },
  {
   "cell_type": "code",
   "execution_count": null,
   "id": "bd30bcc6-66f1-41f1-92c6-6077f660235b",
   "metadata": {},
   "outputs": [],
   "source": [
    "# ratio when the HOE in place wrt with beam aperture\n",
    "efficiency_order0 = np.absolute(c0_v3)**2/np.absolute(c0_v1)**2 \n",
    "efficiency_orderp1 = np.absolute(c1_v3)**2/np.absolute(c0_v1)**2 \n",
    "efficiency_orderm1 = np.absolute(c1_v3)**2/np.absolute(c0_v1)**2 "
   ]
  },
  {
   "cell_type": "code",
   "execution_count": null,
   "id": "5efccc23-1086-4f6e-8c7d-8aac9a5b60c1",
   "metadata": {},
   "outputs": [],
   "source": [
    "print(f\"Fourier Coeff : Transmission efficiency of order 0 : {efficiency_order0:.4f}\")\n",
    "print(f\"Fourier Coeff : Transmission efficiency of order 1 : {efficiency_orderp1:.4f}\")\n",
    "print(f\"Fourier Coeff : Transmission efficiency of order -1 : {efficiency_orderm1:.4f}\")"
   ]
  },
  {
   "cell_type": "code",
   "execution_count": null,
   "id": "64fc2545-2f3e-4246-b87b-c80324526064",
   "metadata": {},
   "outputs": [],
   "source": [
    "efficiency_order0_v2 = np.absolute(c0_v3)**2/(np.absolute(c0_v3)**2 + 2*(np.absolute(c1_v3))**2 + 2*sum_supp2_v2_c)\n",
    "efficiency_orderp1_v2 = np.absolute(c1_v3)**2/(np.absolute(c0_v3)**2 + 2*(np.absolute(c1_v3))**2 + 2*sum_supp2_v2_c)\n",
    "efficiency_orderm1_v2 =  np.absolute(c1_v3)**2/(np.absolute(c0_v3)**2 + 2*(np.absolute(c1_v3))**2 + 2*sum_supp2_v2_c)"
   ]
  },
  {
   "cell_type": "code",
   "execution_count": null,
   "id": "501c21df-3a7c-4f8c-98e9-7889c2b38d82",
   "metadata": {},
   "outputs": [],
   "source": [
    "print(f\"Fourier Coeff : v2 : Transmission efficiency of order 0 : {efficiency_order0_v2:.4f}\")\n",
    "print(f\"Fourier Coeff : v2 : Transmission efficiency of order 1 : {efficiency_orderp1_v2:.4f}\")\n",
    "print(f\"Fourier Coeff : v2 : Transmission efficiency of order -1 : {efficiency_orderm1_v2:.4f}\")"
   ]
  },
  {
   "cell_type": "markdown",
   "id": "16934ea6-b079-43b4-b3a8-f0a343d6af3a",
   "metadata": {},
   "source": [
    "#### Order ratio"
   ]
  },
  {
   "cell_type": "code",
   "execution_count": null,
   "id": "54497955-26f8-471b-98ac-0a09f7353423",
   "metadata": {},
   "outputs": [],
   "source": [
    "orderp1order0_v2 = np.absolute(c1_v3)**2/np.absolute(c0_v3)**2\n",
    "orderm1order0_v2 = np.absolute(c1_v3)**2/np.absolute(c0_v3)**2"
   ]
  },
  {
   "cell_type": "code",
   "execution_count": null,
   "id": "0df6771c-8141-494b-b59f-2c3724611b21",
   "metadata": {},
   "outputs": [],
   "source": [
    "print(f\"Fourier Coeff : v2 : Transmission radio order +1/ order 0 : {orderp1order0_v2:.4f}\")\n",
    "print(f\"Fourier Coeff : v2 : Transmission radio order -1/ order 0 : {orderm1order0_v2:.4f}\")"
   ]
  },
  {
   "cell_type": "code",
   "execution_count": null,
   "id": "24e5afd7-f0e8-4f46-b19a-9845960be315",
   "metadata": {},
   "outputs": [],
   "source": []
  }
 ],
 "metadata": {
  "kernelspec": {
   "display_name": "poppy_py312",
   "language": "python",
   "name": "poppy_py312"
  },
  "language_info": {
   "codemirror_mode": {
    "name": "ipython",
    "version": 3
   },
   "file_extension": ".py",
   "mimetype": "text/x-python",
   "name": "python",
   "nbconvert_exporter": "python",
   "pygments_lexer": "ipython3",
   "version": "3.12.8"
  }
 },
 "nbformat": 4,
 "nbformat_minor": 5
}
