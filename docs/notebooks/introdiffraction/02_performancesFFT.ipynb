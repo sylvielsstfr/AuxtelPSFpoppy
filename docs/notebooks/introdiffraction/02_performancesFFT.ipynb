{
 "cells": [
  {
   "cell_type": "markdown",
   "id": "9cd488fc-cd66-452c-8669-d360cd63b7f5",
   "metadata": {},
   "source": [
    "## Paramters for FFT\n",
    "\n",
    "## Goal simulate effect of gratings including hologram on. the PSF including the orders 0,1,2 of diffraction and understand Fourier optics\n",
    "- author : Sylvie Dagoret-Campagne\n",
    "- aflilation IJCLab/IN2P3/CNRS\n",
    "- creation date 2025-01-10\n",
    "- conda environnement : poppy_conda_py312 (on my macbook)\n",
    "- install poppy : https://poppy-optics.readthedocs.io/en/latest/\n",
    "- install rise in jupyterlab to see the slides : https://github.com/jupyterlab-contrib/rise\n",
    "- install pandoc for documentation"
   ]
  },
  {
   "cell_type": "code",
   "execution_count": 1,
   "id": "be8c22fc-7cce-4e26-847d-b00fb2a7acd9",
   "metadata": {},
   "outputs": [
    {
     "data": {
      "text/plain": [
       "'1.1.2.dev134+gb058985'"
      ]
     },
     "execution_count": 1,
     "metadata": {},
     "output_type": "execute_result"
    }
   ],
   "source": [
    "%matplotlib inline\n",
    "import numpy as np\n",
    "import matplotlib.pyplot as plt\n",
    "import poppy\n",
    "import astropy.units as u\n",
    "poppy.__version__"
   ]
  },
  {
   "cell_type": "markdown",
   "id": "b693afa6-987a-4922-8171-b97afbabd4cb",
   "metadata": {},
   "source": [
    "## Configuration"
   ]
  },
  {
   "cell_type": "markdown",
   "id": "30111452-aaa1-4f78-a61a-dfdcdb1506e9",
   "metadata": {},
   "source": [
    "### Auxtel configuration"
   ]
  },
  {
   "cell_type": "code",
   "execution_count": 12,
   "id": "ba08f024-294f-4bdc-9544-58f2dac77c30",
   "metadata": {},
   "outputs": [],
   "source": [
    "# wavelength in m\n",
    "wl = 500*u.micron\n",
    "# pixel scale\n",
    "# 10 microns pixel , 105 microns per arcsec\n",
    "pix_scale = (10.0/105.0)*u.micron # arcsec per pixel\n",
    "fov_arcsec = 5.0 # must restrict the FOV in focl plane to avoid aliasing\n",
    "# diameter in m\n",
    "D = 1.2*u.m\n",
    "Fnum = 18\n",
    "# focal length\n",
    "FL = D*Fnum\n",
    "# Dccd\n",
    "Dccd = 180*u.mm\n",
    "# beam radius at object positon\n",
    "beam_radius =  D/2/FL*Dccd"
   ]
  },
  {
   "cell_type": "code",
   "execution_count": 13,
   "id": "385443e3-7370-47dc-89e5-093d40a19945",
   "metadata": {},
   "outputs": [
    {
     "name": "stdout",
     "output_type": "stream",
     "text": [
      "TELESCOPE : beam radius 5.0 mm\n"
     ]
    }
   ],
   "source": [
    "print(f\"TELESCOPE : beam radius {beam_radius}\")"
   ]
  },
  {
   "cell_type": "markdown",
   "id": "c5b27edf-9b0a-436a-a65d-235cef0f4ab5",
   "metadata": {},
   "source": [
    "### Grating Configuration"
   ]
  },
  {
   "cell_type": "code",
   "execution_count": 14,
   "id": "8a109c55-c631-494e-9bf3-94b98cc54237",
   "metadata": {},
   "outputs": [],
   "source": [
    "Neff = 150/u.mm\n",
    "a = 1/Neff"
   ]
  },
  {
   "cell_type": "code",
   "execution_count": 10,
   "id": "3dd2e41a-a189-4ab1-b99b-9c754b151590",
   "metadata": {},
   "outputs": [
    {
     "name": "stdout",
     "output_type": "stream",
     "text": [
      "GRATING : line spacing 0.006666666666666667 mm\n"
     ]
    }
   ],
   "source": [
    "print(f\"GRATING : line spacing {a}\")"
   ]
  },
  {
   "cell_type": "markdown",
   "id": "2790c70b-1c8e-45c0-8768-2f1546a8281a",
   "metadata": {},
   "source": [
    "### FFT configuration"
   ]
  },
  {
   "cell_type": "code",
   "execution_count": 19,
   "id": "3575f4e0-c77f-48e7-b754-574e61508f2a",
   "metadata": {},
   "outputs": [],
   "source": [
    "Nb = 5024"
   ]
  },
  {
   "cell_type": "markdown",
   "id": "368c9df4-8576-46fd-8ece-f27678600588",
   "metadata": {},
   "source": [
    "## Frequencies accessible"
   ]
  },
  {
   "cell_type": "code",
   "execution_count": 20,
   "id": "ccf45661-8900-4b0b-8cdc-059fac4835f3",
   "metadata": {},
   "outputs": [],
   "source": [
    "Lmax = beam_radius\n",
    "Lmin = beam_radius/Nb"
   ]
  },
  {
   "cell_type": "code",
   "execution_count": null,
   "id": "05824ce1-a486-437c-8a81-f784b059d167",
   "metadata": {},
   "outputs": [],
   "source": []
  },
  {
   "cell_type": "code",
   "execution_count": 21,
   "id": "a9b221dc-6dc8-4201-adcf-2accd725fec6",
   "metadata": {},
   "outputs": [
    {
     "name": "stdout",
     "output_type": "stream",
     "text": [
      "FREQUENCIES : LMIN = 0.0009952229299363057 mm\n"
     ]
    }
   ],
   "source": [
    "print(f\"FREQUENCIES : LMIN = {Lmin}\")"
   ]
  },
  {
   "cell_type": "code",
   "execution_count": 22,
   "id": "9898c4de-8d15-4da4-ab51-2634c003a9cf",
   "metadata": {},
   "outputs": [
    {
     "data": {
      "text/latex": [
       "$6.6986667 \\; \\mathrm{}$"
      ],
      "text/plain": [
       "<Quantity 6.69866667>"
      ]
     },
     "execution_count": 22,
     "metadata": {},
     "output_type": "execute_result"
    }
   ],
   "source": [
    "a/Lmin"
   ]
  },
  {
   "cell_type": "code",
   "execution_count": null,
   "id": "32cfbf6c-c412-4b03-918e-54290a869a07",
   "metadata": {},
   "outputs": [],
   "source": []
  }
 ],
 "metadata": {
  "kernelspec": {
   "display_name": "poppy_py312",
   "language": "python",
   "name": "poppy_py312"
  },
  "language_info": {
   "codemirror_mode": {
    "name": "ipython",
    "version": 3
   },
   "file_extension": ".py",
   "mimetype": "text/x-python",
   "name": "python",
   "nbconvert_exporter": "python",
   "pygments_lexer": "ipython3",
   "version": "3.12.8"
  }
 },
 "nbformat": 4,
 "nbformat_minor": 5
}
