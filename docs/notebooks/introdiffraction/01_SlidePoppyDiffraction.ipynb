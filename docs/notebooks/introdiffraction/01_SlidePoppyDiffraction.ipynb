{
 "cells": [
  {
   "cell_type": "markdown",
   "id": "bbbbbc51-a806-43c2-871e-aa190dc41640",
   "metadata": {
    "editable": true,
    "slideshow": {
     "slide_type": "slide"
    },
    "tags": []
   },
   "source": [
    "# PSF calculation with Poppy\n",
    "\n",
    "## Goal simulate effect of gratings including hologram on. the PSF including the orders 0,1,2 of diffraction and understand Fourier optics\n",
    "- author : Sylvie Dagoret-Campagne\n",
    "- aflilation IJCLab/IN2P3/CNRS\n",
    "- creation date 2025-01-10\n",
    "- conda environnement : poppy_conda_py312 (on my macbook)\n",
    "- install poppy : https://poppy-optics.readthedocs.io/en/latest/\n",
    "- install rise in jupyterlab to see the slides : https://github.com/jupyterlab-contrib/rise\n",
    "- install pandoc for documentation"
   ]
  },
  {
   "cell_type": "code",
   "execution_count": 1,
   "id": "c9f171b3-0bae-4c39-94ef-2359bf1b5824",
   "metadata": {
    "editable": true,
    "slideshow": {
     "slide_type": "fragment"
    },
    "tags": []
   },
   "outputs": [
    {
     "ename": "FileNotFoundError",
     "evalue": "[Errno 2] No such file or directory: 'Figs/fig_aperturediffraction.png'",
     "output_type": "error",
     "traceback": [
      "\u001b[0;31m---------------------------------------------------------------------------\u001b[0m",
      "\u001b[0;31mFileNotFoundError\u001b[0m                         Traceback (most recent call last)",
      "Cell \u001b[0;32mIn[1], line 2\u001b[0m\n\u001b[1;32m      1\u001b[0m \u001b[38;5;28;01mfrom\u001b[39;00m \u001b[38;5;21;01mIPython\u001b[39;00m\u001b[38;5;21;01m.\u001b[39;00m\u001b[38;5;21;01mdisplay\u001b[39;00m \u001b[38;5;28;01mimport\u001b[39;00m Image\n\u001b[0;32m----> 2\u001b[0m \u001b[43mImage\u001b[49m\u001b[43m(\u001b[49m\u001b[43mfilename\u001b[49m\u001b[43m \u001b[49m\u001b[38;5;241;43m=\u001b[39;49m\u001b[43m \u001b[49m\u001b[38;5;124;43m\"\u001b[39;49m\u001b[38;5;124;43mFigs/fig_aperturediffraction.png\u001b[39;49m\u001b[38;5;124;43m\"\u001b[39;49m\u001b[43m,\u001b[49m\u001b[43mwidth\u001b[49m\u001b[38;5;241;43m=\u001b[39;49m\u001b[38;5;241;43m500\u001b[39;49m\u001b[43m,\u001b[49m\u001b[43mheight\u001b[49m\u001b[38;5;241;43m=\u001b[39;49m\u001b[38;5;241;43m100\u001b[39;49m\u001b[43m)\u001b[49m\n",
      "File \u001b[0;32m~/anaconda3/envs/poppy_py312/lib/python3.12/site-packages/IPython/core/display.py:1053\u001b[0m, in \u001b[0;36mImage.__init__\u001b[0;34m(self, data, url, filename, format, embed, width, height, retina, unconfined, metadata, alt)\u001b[0m\n\u001b[1;32m   1051\u001b[0m \u001b[38;5;28mself\u001b[39m\u001b[38;5;241m.\u001b[39munconfined \u001b[38;5;241m=\u001b[39m unconfined\n\u001b[1;32m   1052\u001b[0m \u001b[38;5;28mself\u001b[39m\u001b[38;5;241m.\u001b[39malt \u001b[38;5;241m=\u001b[39m alt\n\u001b[0;32m-> 1053\u001b[0m \u001b[38;5;28;43msuper\u001b[39;49m\u001b[43m(\u001b[49m\u001b[43mImage\u001b[49m\u001b[43m,\u001b[49m\u001b[43m \u001b[49m\u001b[38;5;28;43mself\u001b[39;49m\u001b[43m)\u001b[49m\u001b[38;5;241;43m.\u001b[39;49m\u001b[38;5;21;43m__init__\u001b[39;49m\u001b[43m(\u001b[49m\u001b[43mdata\u001b[49m\u001b[38;5;241;43m=\u001b[39;49m\u001b[43mdata\u001b[49m\u001b[43m,\u001b[49m\u001b[43m \u001b[49m\u001b[43murl\u001b[49m\u001b[38;5;241;43m=\u001b[39;49m\u001b[43murl\u001b[49m\u001b[43m,\u001b[49m\u001b[43m \u001b[49m\u001b[43mfilename\u001b[49m\u001b[38;5;241;43m=\u001b[39;49m\u001b[43mfilename\u001b[49m\u001b[43m,\u001b[49m\n\u001b[1;32m   1054\u001b[0m \u001b[43m        \u001b[49m\u001b[43mmetadata\u001b[49m\u001b[38;5;241;43m=\u001b[39;49m\u001b[43mmetadata\u001b[49m\u001b[43m)\u001b[49m\n\u001b[1;32m   1056\u001b[0m \u001b[38;5;28;01mif\u001b[39;00m \u001b[38;5;28mself\u001b[39m\u001b[38;5;241m.\u001b[39mwidth \u001b[38;5;129;01mis\u001b[39;00m \u001b[38;5;28;01mNone\u001b[39;00m \u001b[38;5;129;01mand\u001b[39;00m \u001b[38;5;28mself\u001b[39m\u001b[38;5;241m.\u001b[39mmetadata\u001b[38;5;241m.\u001b[39mget(\u001b[38;5;124m'\u001b[39m\u001b[38;5;124mwidth\u001b[39m\u001b[38;5;124m'\u001b[39m, {}):\n\u001b[1;32m   1057\u001b[0m     \u001b[38;5;28mself\u001b[39m\u001b[38;5;241m.\u001b[39mwidth \u001b[38;5;241m=\u001b[39m metadata[\u001b[38;5;124m'\u001b[39m\u001b[38;5;124mwidth\u001b[39m\u001b[38;5;124m'\u001b[39m]\n",
      "File \u001b[0;32m~/anaconda3/envs/poppy_py312/lib/python3.12/site-packages/IPython/core/display.py:371\u001b[0m, in \u001b[0;36mDisplayObject.__init__\u001b[0;34m(self, data, url, filename, metadata)\u001b[0m\n\u001b[1;32m    368\u001b[0m \u001b[38;5;28;01melif\u001b[39;00m \u001b[38;5;28mself\u001b[39m\u001b[38;5;241m.\u001b[39mmetadata \u001b[38;5;129;01mis\u001b[39;00m \u001b[38;5;28;01mNone\u001b[39;00m:\n\u001b[1;32m    369\u001b[0m     \u001b[38;5;28mself\u001b[39m\u001b[38;5;241m.\u001b[39mmetadata \u001b[38;5;241m=\u001b[39m {}\n\u001b[0;32m--> 371\u001b[0m \u001b[38;5;28;43mself\u001b[39;49m\u001b[38;5;241;43m.\u001b[39;49m\u001b[43mreload\u001b[49m\u001b[43m(\u001b[49m\u001b[43m)\u001b[49m\n\u001b[1;32m    372\u001b[0m \u001b[38;5;28mself\u001b[39m\u001b[38;5;241m.\u001b[39m_check_data()\n",
      "File \u001b[0;32m~/anaconda3/envs/poppy_py312/lib/python3.12/site-packages/IPython/core/display.py:1088\u001b[0m, in \u001b[0;36mImage.reload\u001b[0;34m(self)\u001b[0m\n\u001b[1;32m   1086\u001b[0m \u001b[38;5;250m\u001b[39m\u001b[38;5;124;03m\"\"\"Reload the raw data from file or URL.\"\"\"\u001b[39;00m\n\u001b[1;32m   1087\u001b[0m \u001b[38;5;28;01mif\u001b[39;00m \u001b[38;5;28mself\u001b[39m\u001b[38;5;241m.\u001b[39membed:\n\u001b[0;32m-> 1088\u001b[0m     \u001b[38;5;28;43msuper\u001b[39;49m\u001b[43m(\u001b[49m\u001b[43mImage\u001b[49m\u001b[43m,\u001b[49m\u001b[38;5;28;43mself\u001b[39;49m\u001b[43m)\u001b[49m\u001b[38;5;241;43m.\u001b[39;49m\u001b[43mreload\u001b[49m\u001b[43m(\u001b[49m\u001b[43m)\u001b[49m\n\u001b[1;32m   1089\u001b[0m     \u001b[38;5;28;01mif\u001b[39;00m \u001b[38;5;28mself\u001b[39m\u001b[38;5;241m.\u001b[39mretina:\n\u001b[1;32m   1090\u001b[0m         \u001b[38;5;28mself\u001b[39m\u001b[38;5;241m.\u001b[39m_retina_shape()\n",
      "File \u001b[0;32m~/anaconda3/envs/poppy_py312/lib/python3.12/site-packages/IPython/core/display.py:397\u001b[0m, in \u001b[0;36mDisplayObject.reload\u001b[0;34m(self)\u001b[0m\n\u001b[1;32m    395\u001b[0m \u001b[38;5;28;01mif\u001b[39;00m \u001b[38;5;28mself\u001b[39m\u001b[38;5;241m.\u001b[39mfilename \u001b[38;5;129;01mis\u001b[39;00m \u001b[38;5;129;01mnot\u001b[39;00m \u001b[38;5;28;01mNone\u001b[39;00m:\n\u001b[1;32m    396\u001b[0m     encoding \u001b[38;5;241m=\u001b[39m \u001b[38;5;28;01mNone\u001b[39;00m \u001b[38;5;28;01mif\u001b[39;00m \u001b[38;5;124m\"\u001b[39m\u001b[38;5;124mb\u001b[39m\u001b[38;5;124m\"\u001b[39m \u001b[38;5;129;01min\u001b[39;00m \u001b[38;5;28mself\u001b[39m\u001b[38;5;241m.\u001b[39m_read_flags \u001b[38;5;28;01melse\u001b[39;00m \u001b[38;5;124m\"\u001b[39m\u001b[38;5;124mutf-8\u001b[39m\u001b[38;5;124m\"\u001b[39m\n\u001b[0;32m--> 397\u001b[0m     \u001b[38;5;28;01mwith\u001b[39;00m \u001b[38;5;28;43mopen\u001b[39;49m\u001b[43m(\u001b[49m\u001b[38;5;28;43mself\u001b[39;49m\u001b[38;5;241;43m.\u001b[39;49m\u001b[43mfilename\u001b[49m\u001b[43m,\u001b[49m\u001b[43m \u001b[49m\u001b[38;5;28;43mself\u001b[39;49m\u001b[38;5;241;43m.\u001b[39;49m\u001b[43m_read_flags\u001b[49m\u001b[43m,\u001b[49m\u001b[43m \u001b[49m\u001b[43mencoding\u001b[49m\u001b[38;5;241;43m=\u001b[39;49m\u001b[43mencoding\u001b[49m\u001b[43m)\u001b[49m \u001b[38;5;28;01mas\u001b[39;00m f:\n\u001b[1;32m    398\u001b[0m         \u001b[38;5;28mself\u001b[39m\u001b[38;5;241m.\u001b[39mdata \u001b[38;5;241m=\u001b[39m f\u001b[38;5;241m.\u001b[39mread()\n\u001b[1;32m    399\u001b[0m \u001b[38;5;28;01melif\u001b[39;00m \u001b[38;5;28mself\u001b[39m\u001b[38;5;241m.\u001b[39murl \u001b[38;5;129;01mis\u001b[39;00m \u001b[38;5;129;01mnot\u001b[39;00m \u001b[38;5;28;01mNone\u001b[39;00m:\n\u001b[1;32m    400\u001b[0m     \u001b[38;5;66;03m# Deferred import\u001b[39;00m\n",
      "\u001b[0;31mFileNotFoundError\u001b[0m: [Errno 2] No such file or directory: 'Figs/fig_aperturediffraction.png'"
     ]
    }
   ],
   "source": [
    "from IPython.display import Image\n",
    "Image(filename = \"Figs/fig_aperturediffraction.png\",width=500,height=100)"
   ]
  },
  {
   "cell_type": "markdown",
   "id": "0a38a8bf-28e9-4837-89a9-54445b05494a",
   "metadata": {
    "editable": true,
    "slideshow": {
     "slide_type": "fragment"
    },
    "tags": []
   },
   "source": [
    "## Reminder of Diffraction by an aperture $(x_1,y_1)$ seen on a screen at $(x_0,y_0)$ \n",
    "(Goodmann book on Fourier optics)\n",
    "- in Fresnel approximation (spherical wave $\\rightarrow$ quadratic terms in propagation term $\\frac{e^{ikr_{01}}}{j\\lambda z}$~:$z^3 \\gg \\frac{\\pi}{4\\lambda}\\left( (x_0-x_1)^2 + (y_0-y_1)^2 \\right)^2|_{max} $:\n",
    "$$\n",
    "U(x_0,y_0) = \\frac{exp(jkz)}{jkz} \\exp\\left(j \\frac{k}{2z}(x_0^2+y_0^2) \\right) \\int \\int \\left\\{ U(x_1,y_1) \\exp\\left(  j \\frac{k}{2z}(x_1^2+y_1^2)\\right)\\right\\} \\times \\exp \\left\\{ -j \\frac{2 \\pi}{\\lambda z}(x_0x_1+y_0y_1)\n",
    "\\right\\}dx_1 dy_1\n",
    "$$\n",
    "- in Fraunhoffer approximation $ z \\gg \\frac{k(x_1^2+y_1^2)}{2}|_{max}$:\n",
    "$$\n",
    "U(x_0,y_0) = \\frac{exp(jkz)}{jkz} \\exp\\left(j \\frac{k}{2z}(x_0^2+y_0^2) \\right) \\int \\int  U(x_1,y_1)  \\times \\exp \\left\\{ -j \\frac{2 \\pi}{\\lambda z}(x_0x_1+y_0y_1)\n",
    "\\right\\}dx_1 dy_1\n",
    "$$\n",
    "- The Fraunoffer approximation solution is proportional to the Fourier transform of $U(x_1,y_1)$ at frequency $(f_X,f_Y) = (\\frac{x_0}{\\lambda z}, \\frac{y_0}{\\lambda z}) = (\\frac{\\alpha}{\\lambda }, \\frac{\\beta}{\\lambda})$\n",
    "- The Fresnel pproximation solution is proportional to the Fourier transform of $\\left \\{ U(x_1,y_1) \\cdot \\exp\\left(  j \\frac{k}{2z}(x_1^2+y_1^2)\\right) \\right\\}$ at frequency $(f_X,f_Y) = (\\frac{x_0}{\\lambda z}, \\frac{y_0}{\\lambda z}) = (\\frac{\\alpha}{\\lambda }, \\frac{\\beta}{\\lambda})$\n",
    "- $(\\alpha,\\beta))$ incident angles in $(X-Z,Y-Z)$ planes"
   ]
  },
  {
   "cell_type": "markdown",
   "id": "3952d76c-efce-41d0-b6ba-7261388f7c9e",
   "metadata": {
    "editable": true,
    "slideshow": {
     "slide_type": "slide"
    },
    "tags": []
   },
   "source": [
    "## Transform the parallel beam into a converging beam\n",
    "\n",
    "- thin lens of focal length $\\phi$ with a transmission function (depending on lens depth $\\Delta_0$ and refractive index $n$):\n",
    "$$\n",
    "U_l(x,y) = \\exp(j k\\Delta_0 n) \\cdot \\exp(-j \\frac{k}{2\\phi}(x^2+y^2))\n",
    "$$\n",
    "- When a lens (or mirror) transform a parallel beam into a converging beam at the location of an object and have a screen at the focal plane, the $\\exp \\left(j \\frac{k}{2z}(x_1^2+y_1^2 \\right)$ is compensated by the lens term $\\exp(-j \\frac{k}{2\\phi}(x^2+y^2))$\n",
    "- Thus a  converging lens (or mirror) transform a parallel beam Fresnel diffraction into a Fraunhoffer diffraction, provided $z=\\phi$.\n",
    "$$\n",
    "U(x_\\phi,y_\\phi) = \\frac{exp(jk\\phi)}{jk\\phi} \\exp\\left(j \\frac{k}{2\\phi}(x_{\\phi}^2+y_{\\phi}^2) \\right) \\int \\int U(x,y)\\cdot P(x,y) \\times \\exp \n",
    "\\left\\{ -j \\frac{2 \\pi}{\\lambda \\phi}(x_\\phi x+y_\\phi y)\\right\\} dx dy\n",
    "$$"
   ]
  },
  {
   "cell_type": "markdown",
   "id": "8f0e878c-6a61-4bd7-aa59-bc683828836d",
   "metadata": {
    "editable": true,
    "slideshow": {
     "slide_type": "fragment"
    },
    "tags": []
   },
   "source": [
    "### The pupil function of the lens\n",
    "$$\n",
    "P(x,y) = \\left\\{ \\begin{array}{c} 1 \\;\\; r < D/2 \\\\ 0 \\;\\;r > D/2 \\end{array} \\right.\n",
    "$$\n",
    "\n",
    "where $r=\\sqrt{x^2+y^2}$ and $D$ is the lens diameter."
   ]
  },
  {
   "cell_type": "markdown",
   "id": "e348ffc5-19ad-40bc-a7e2-33e484dac9da",
   "metadata": {
    "editable": true,
    "slideshow": {
     "slide_type": "slide"
    },
    "tags": []
   },
   "source": [
    "## Diffraction by an object close to the lens\n",
    "\n",
    "- $t(x,y)$ transmission of the object\n",
    "$$\n",
    "U(x_\\phi,y_\\phi) = \\frac{exp(jk\\phi)}{jk\\phi} \\exp\\left(j \\frac{k}{2\\phi}(x_{\\phi}^2+y_{\\phi}^2) \\right) \\int \\int U(x,y) \\cdot  t(x,y)\\cdot P(x,y) \\times \\exp \n",
    "\\left\\{ -j \\frac{2 \\pi}{\\lambda \\phi}(x_\\phi x+y_\\phi y)\\right\\} dx dy\n",
    "$$"
   ]
  },
  {
   "cell_type": "markdown",
   "id": "11a2b0ce-e6be-4857-a2f3-2b4cc08ffb38",
   "metadata": {
    "editable": true,
    "slideshow": {
     "slide_type": "fragment"
    },
    "tags": []
   },
   "source": [
    "- For an incident plane wave $U(x,y)=1$ :\n",
    "$$\n",
    "U(x_\\phi,y_\\phi) = \\frac{exp(jk\\phi)}{jk\\phi} \\exp\\left(j \\frac{k}{2\\phi}(x_{\\phi}^2+y_{\\phi}^2) \\right) \\int \\int   t(x,y)\\cdot P(x,y) \\times \\exp \n",
    "\\left\\{ -j \\frac{2 \\pi}{\\lambda \\phi}(x_\\phi x+y_\\phi y)\\right\\} dx dy\n",
    "$$\n",
    "- $U(x_\\phi,y_\\phi)$ (at focal plane) is the Fourier transform of the object transmission $t(x,y)$  at frequency $(F_X,F_Y) = (\\frac{x_\\phi}{\\lambda \\phi},\\frac{y_\\phi}{\\lambda \\phi}) = (\\frac{\\alpha_\\phi}{\\lambda },\\frac{\\beta_\\phi}{\\lambda})$\n",
    "- As one move along different angles in focal plane, one access to different frequency components at fixed $\\lambda$."
   ]
  },
  {
   "cell_type": "code",
   "execution_count": null,
   "id": "dbc3a72e-02a4-4746-a39b-1e98b948c75d",
   "metadata": {
    "editable": true,
    "slideshow": {
     "slide_type": "fragment"
    },
    "tags": []
   },
   "outputs": [],
   "source": [
    "Image(filename = \"Figs/fig_lensobjdiffraction.png\",width=500,height=100)"
   ]
  },
  {
   "cell_type": "markdown",
   "id": "c1d7f9ae",
   "metadata": {
    "editable": true,
    "slideshow": {
     "slide_type": "slide"
    },
    "tags": []
   },
   "source": [
    "## Object behind the lens"
   ]
  },
  {
   "cell_type": "code",
   "execution_count": null,
   "id": "50133809",
   "metadata": {
    "editable": true,
    "slideshow": {
     "slide_type": "fragment"
    },
    "tags": []
   },
   "outputs": [],
   "source": [
    "Image(filename = \"Figs/fig_objbehindlensdiffraction.png\",width=500,height=100)"
   ]
  },
  {
   "cell_type": "markdown",
   "id": "768e5325-a045-46b9-adb9-117499dcecdb",
   "metadata": {
    "editable": true,
    "slideshow": {
     "slide_type": "fragment"
    },
    "tags": []
   },
   "source": [
    "$$\n",
    "U_\\phi(x_\\phi,y_\\phi) = \\frac{A \\exp \\left\\{j \\frac{k}{2d}(x_\\phi^2 + y_\\phi^2) \\right\\}}{j \\lambda d} \\frac{\\phi}{d} \\int \\int t_0(x_0,y_0) P(x_0 \\frac{\\phi}{d}, y_0\\frac{\\phi}{d}) \\times \\exp \\left\\{ -j \\frac{2 \\pi}{\\lambda d}(x_0 x_\\phi+ y_0 y_\\phi) \\right\\} dx_0 dy_0\n",
    "$$\n",
    "\n",
    "- Note the $\\phi$ is replaced by the $d$\n",
    "- $P(x,y)$ pupil function of the lens such that $P(x_0 \\frac{\\phi}{d}, y_0\\frac{\\phi}{d})$ constrains to the focused beam size at object position\n",
    "- $U_\\phi(x_\\phi,y_\\phi)$ is proportional to the Fourier transform of $t_0(x_0,y_0) P(x_0 \\frac{\\phi}{d}, y_0\\frac{\\phi}{d})$ at frequency $(f_X,f_Y) = (\\frac{x_\\phi}{\\lambda d}, \\frac{y_\\phi}{\\lambda d}) = (\\frac{\\alpha}{\\lambda }, \\frac{\\beta}{\\lambda})$\n",
    "- $(\\alpha,\\beta))$ incident angles in $(X-Z,Y-Z)$ planes"
   ]
  },
  {
   "cell_type": "markdown",
   "id": "ffef53e8-8060-4d7b-8a16-dbc11cdd5e55",
   "metadata": {
    "editable": true,
    "slideshow": {
     "slide_type": "slide"
    },
    "tags": []
   },
   "source": [
    "## Poppy Diffraction example\n",
    "\n",
    "- Use Auxtel aperture telescope"
   ]
  },
  {
   "cell_type": "code",
   "execution_count": null,
   "id": "fbd08416-6bda-4285-9bd0-f53622560eac",
   "metadata": {
    "editable": true,
    "slideshow": {
     "slide_type": "skip"
    },
    "tags": []
   },
   "outputs": [],
   "source": [
    "%matplotlib inline\n",
    "import numpy as np\n",
    "import matplotlib.pyplot as plt\n",
    "import poppy\n",
    "import astropy.units as u\n",
    "poppy.__version__"
   ]
  },
  {
   "cell_type": "code",
   "execution_count": null,
   "id": "a3b3dda1-8f58-4fce-85f2-33a2dded3ec5",
   "metadata": {
    "editable": true,
    "slideshow": {
     "slide_type": "skip"
    },
    "tags": []
   },
   "outputs": [],
   "source": [
    "import logging\n",
    "#logging.basicConfig(level=logging.DEBUG)\n",
    "logging.basicConfig(level=logging.INFO)"
   ]
  },
  {
   "cell_type": "markdown",
   "id": "2d319f08-3ba0-4bc3-aa27-02f7c295ab75",
   "metadata": {
    "editable": true,
    "slideshow": {
     "slide_type": ""
    },
    "tags": []
   },
   "source": [
    "#### Auxtel configuration"
   ]
  },
  {
   "cell_type": "code",
   "execution_count": null,
   "id": "cc948c46-679f-44dd-b780-65f487328fb6",
   "metadata": {
    "editable": true,
    "slideshow": {
     "slide_type": "fragment"
    },
    "tags": []
   },
   "outputs": [],
   "source": [
    "# wavelength in m\n",
    "wl = 0.5e-6\n",
    "# pixel scale\n",
    "# 10 microns pixel , 105 microns per arcsec\n",
    "pix_scale = 10.0/105.0 # arcsec per pixel\n",
    "fov_arcsec = 5.0 # must restrict the FOV in focl plane to avoid aliasing\n",
    "# diameter in m\n",
    "D = 1.2\n",
    "Fnum = 18\n",
    "# focal length\n",
    "FL = D*Fnum\n",
    "# Dccd\n",
    "Dccd = 180e-3\n",
    "# beam radius at object positon\n",
    "beam_radius=  D/2/FL*Dccd"
   ]
  },
  {
   "cell_type": "markdown",
   "id": "4993a40d-295e-4f0c-b2ed-f0aa683d8dfc",
   "metadata": {
    "editable": true,
    "slideshow": {
     "slide_type": "slide"
    },
    "tags": []
   },
   "source": [
    "### Auxtel telescope Aperture definition"
   ]
  },
  {
   "cell_type": "code",
   "execution_count": null,
   "id": "61eedbde-66c0-4210-8cfc-9b15254c1353",
   "metadata": {
    "editable": true,
    "slideshow": {
     "slide_type": "fragment"
    },
    "tags": []
   },
   "outputs": [],
   "source": [
    "# number of bins\n",
    "Nb = 4096\n",
    "oversampling=20\n",
    "osys = poppy.OpticalSystem(oversample=oversampling)\n",
    "ap = poppy.CircularAperture(radius=D/2.)\n",
    "values = ap.sample(npix = Nb) \n",
    "ap.display(colorbar=True,what='both')"
   ]
  },
  {
   "cell_type": "markdown",
   "id": "6c5c1351-7426-445a-b237-e873af51f4d8",
   "metadata": {
    "editable": true,
    "slideshow": {
     "slide_type": ""
    },
    "tags": []
   },
   "source": [
    "### Add a detector plane and show the PSF"
   ]
  },
  {
   "cell_type": "code",
   "execution_count": null,
   "id": "93f7d536-dc06-489a-82a0-0a41dce4e235",
   "metadata": {
    "editable": true,
    "slideshow": {
     "slide_type": "slide"
    },
    "tags": []
   },
   "outputs": [],
   "source": [
    " # evaluate on 1024 x 1024 grid\n",
    "osys.add_pupil(ap)    # pupil radius in meters\n",
    "osys.add_detector(pixelscale=pix_scale, fov_arcsec=fov_arcsec)  # image plane coordinates in arcseconds\n",
    "psf = osys.calc_psf(wl)                            # wavelength in microns\n",
    "poppy.display_psf(psf, title='Auxtel PSF') \n",
    "plt.savefig('example_airy.png', dpi=100)"
   ]
  },
  {
   "cell_type": "code",
   "execution_count": null,
   "id": "7b57070e-1cf8-41e4-8cc3-d247fac56197",
   "metadata": {
    "editable": true,
    "slideshow": {
     "slide_type": ""
    },
    "tags": []
   },
   "outputs": [],
   "source": [
    "psf[0].data.shape"
   ]
  },
  {
   "cell_type": "code",
   "execution_count": null,
   "id": "3b1b1464-90b8-4fd9-abf7-7ce43c030bdb",
   "metadata": {
    "editable": true,
    "slideshow": {
     "slide_type": ""
    },
    "tags": []
   },
   "outputs": [],
   "source": [
    "fov_arcsec/pix_scale"
   ]
  },
  {
   "cell_type": "markdown",
   "id": "d6ececf1-4d8c-4818-b4f8-8756e13659fc",
   "metadata": {
    "editable": true,
    "slideshow": {
     "slide_type": ""
    },
    "tags": []
   },
   "source": [
    "### Fast Fourier transform"
   ]
  },
  {
   "cell_type": "code",
   "execution_count": null,
   "id": "dba3a684-c794-4583-9e08-ba496de8349f",
   "metadata": {
    "editable": true,
    "slideshow": {
     "slide_type": ""
    },
    "tags": []
   },
   "outputs": [],
   "source": [
    "plt.figure(figsize=(10,8))\n",
    "poppy.display_profiles(psf)"
   ]
  },
  {
   "cell_type": "markdown",
   "id": "0bbc983b-edc1-424c-b5da-e1290335e1c9",
   "metadata": {
    "editable": true,
    "slideshow": {
     "slide_type": "slide"
    },
    "tags": []
   },
   "source": [
    "## Simple Ronchi pattern"
   ]
  },
  {
   "cell_type": "code",
   "execution_count": null,
   "id": "642bcc66-2f43-45cb-8f8c-76681dcb176a",
   "metadata": {
    "editable": true,
    "slideshow": {
     "slide_type": "fragment"
    },
    "tags": []
   },
   "outputs": [],
   "source": [
    "Neff= 150. # number of lines per mm"
   ]
  },
  {
   "cell_type": "code",
   "execution_count": null,
   "id": "42670c1a-67ed-4102-8036-85b5433914e0",
   "metadata": {
    "editable": true,
    "slideshow": {
     "slide_type": "fragment"
    },
    "tags": []
   },
   "outputs": [],
   "source": [
    "def pupil_function(x,y,D=D,fl=FL,d=Dccd):\n",
    "    \"\"\"\n",
    "    Size of the Beam at Optical element position\n",
    "    \"\"\"\n",
    "\n",
    "    R = np.sqrt(x**2+y**2)*fl/d\n",
    "    value = np.where(R<D/2.,1,0)\n",
    "    return value"
   ]
  },
  {
   "cell_type": "code",
   "execution_count": null,
   "id": "b855e42f-87f9-41bd-80b5-b59f9c38677f",
   "metadata": {
    "editable": true,
    "slideshow": {
     "slide_type": "fragment"
    },
    "tags": []
   },
   "outputs": [],
   "source": [
    "nx, ny = (500, 500)\n",
    "x = np.linspace(-0.01,0.01 ,nx)\n",
    "y = np.linspace(-0.01,0.01, ny)\n",
    "xv, yv = np.meshgrid(x, y)\n",
    "z = pupil_function(xv,yv)"
   ]
  },
  {
   "cell_type": "code",
   "execution_count": null,
   "id": "fc342751-7727-4ca5-98f4-f0d663907ad8",
   "metadata": {
    "editable": true,
    "slideshow": {
     "slide_type": "slide"
    },
    "tags": []
   },
   "outputs": [],
   "source": [
    "fig,ax = plt.subplots(1,1)\n",
    "ax.imshow(z,extent=[x.min(),x.max(),y.min(),y.max()],cmap=\"gray\")\n",
    "ax.set_xlabel(\"x (m)\")\n",
    "ax.set_ylabel(\"y (m)\")\n",
    "ax.set_title(\"pupil function at object position\")"
   ]
  },
  {
   "cell_type": "code",
   "execution_count": null,
   "id": "439c9a51-5ed6-4ffe-9b3f-8736fe5aefd7",
   "metadata": {
    "editable": true,
    "slideshow": {
     "slide_type": "slide"
    },
    "tags": []
   },
   "outputs": [],
   "source": [
    "def set_ronchi_transmission_debug(x,opticalelement_nblines_permm=150):\n",
    "    \"\"\"\n",
    "    Generate a square pattern of transmission.\n",
    "    x in mm\n",
    "    \"\"\"\n",
    "    a = 1/opticalelement_nblines_permm\n",
    "    return np.rint(x/a-0.25 - np.floor(x/a-0.25))"
   ]
  },
  {
   "cell_type": "code",
   "execution_count": null,
   "id": "df196164-b95d-4c62-8903-ca2ea2e4713a",
   "metadata": {
    "editable": true,
    "slideshow": {
     "slide_type": "fragment"
    },
    "tags": []
   },
   "outputs": [],
   "source": [
    "fig,ax = plt.subplots(1,1,figsize=(16,4))\n",
    "x = np.linspace(-0.02,0.02,5000)\n",
    "y = set_ronchi_transmission_debug(x)\n",
    "ax.plot(x,y,'b-')\n",
    "ax.grid()"
   ]
  },
  {
   "cell_type": "code",
   "execution_count": null,
   "id": "622379d2-5c92-450c-ae29-4d1c9f5e2505",
   "metadata": {
    "editable": true,
    "slideshow": {
     "slide_type": "slide"
    },
    "tags": []
   },
   "outputs": [],
   "source": [
    "def set_ronchi_transmission(x,y,wl,opticalelement):\n",
    "    \"\"\"\n",
    "    \"\"\"\n",
    "    nblines_perm = opticalelement.nblines_permm*1000.\n",
    "    a = 1/nblines_perm \n",
    "    #pupil = pupil_function(x,y)\n",
    "    # the aperture stop must be defined before the the optical element\n",
    "    return np.rint(x/a-0.25 - np.floor(x/a-0.25))"
   ]
  },
  {
   "cell_type": "code",
   "execution_count": null,
   "id": "769561e9-b87c-49f1-8c1c-4522ba6072f2",
   "metadata": {
    "editable": true,
    "slideshow": {
     "slide_type": "fragment"
    },
    "tags": []
   },
   "outputs": [],
   "source": [
    "def set_ronchi_opd(x,y,wl,opticalelement):\n",
    "    \"\"\"\n",
    "    \"\"\"\n",
    "    return 0"
   ]
  },
  {
   "cell_type": "code",
   "execution_count": null,
   "id": "6b005e11-fe77-4d1e-a923-c413bbf21f6b",
   "metadata": {
    "editable": true,
    "slideshow": {
     "slide_type": "fragment"
    },
    "tags": []
   },
   "outputs": [],
   "source": [
    "class myRonchiGratingOptic(poppy.AnalyticOpticalElement):\n",
    "    def __init__(self, *args, **kwargs):\n",
    "        \"\"\" If your optic has adjustable parameters, then save them as attributes here \"\"\"\n",
    "        super().__init__(**kwargs)\n",
    "        # number of line per mm\n",
    "        self.nblines_permm = Neff \n",
    "    def get_opd(self,wave):\n",
    "        y, x = self.get_coordinates(wave)\n",
    "        opd = set_ronchi_opd(x,y, wave.wavelength, self)\n",
    "        return opd\n",
    "\n",
    "    def set_transmission(self, wave):\n",
    "        y, x = self.get_coordinates(wave)\n",
    "        transmission = set_ronchi_transmission(x,y, wave.wavelength, self)\n",
    "        return transmission\n",
    "\n",
    "    # behind the scenes poppy  will calculate:\n",
    "    #    phasor = transmission = np.exp(1.j * 2 * np.pi / wave.wavelength * op"
   ]
  },
  {
   "cell_type": "code",
   "execution_count": null,
   "id": "3ed1fdd2-ec78-43b9-9b98-0ebd7c04492f",
   "metadata": {
    "editable": true,
    "slideshow": {
     "slide_type": ""
    },
    "tags": []
   },
   "outputs": [],
   "source": [
    "myoptic = myRonchiGratingOptic(oversample=10)\n",
    "values = myoptic.sample(npix=Nb)  "
   ]
  },
  {
   "cell_type": "code",
   "execution_count": null,
   "id": "e408a342-b933-48f6-b849-374a89ac1906",
   "metadata": {
    "editable": true,
    "slideshow": {
     "slide_type": ""
    },
    "tags": []
   },
   "outputs": [],
   "source": [
    "osys = poppy.OpticalSystem(\"Auxtel + Ronchi\", oversample=10)\n",
    "ap= poppy.CircularAperture(radius=beam_radius)\n",
    "ap.sample(npix=Nb)\n",
    "#osys.add_pupil(poppy.CircularAperture(radius=D/2))  \n",
    "osys.add_pupil(ap)  \n",
    "osys.add_pupil(myoptic)\n",
    "osys.add_detector(pixelscale=pix_scale, fov_arcsec=30*fov_arcsec)  # image plane coordinates in arcseconds\n",
    "psf = osys.calc_psf(wl)                            # wavelength in microns\n",
    "poppy.display_psf(psf, title='Auxtel + RonchiPSF') "
   ]
  },
  {
   "cell_type": "code",
   "execution_count": null,
   "id": "3b0a0404-5787-4315-9646-d27fa4e3b597",
   "metadata": {
    "editable": true,
    "slideshow": {
     "slide_type": ""
    },
    "tags": []
   },
   "outputs": [],
   "source": [
    "plt.figure(figsize=(10,8))\n",
    "poppy.display_profiles(psf)"
   ]
  },
  {
   "cell_type": "markdown",
   "id": "9768b3a7-2d35-457a-ad2a-df02628b4e21",
   "metadata": {
    "editable": true,
    "slideshow": {
     "slide_type": ""
    },
    "tags": []
   },
   "source": [
    "## Fast Fourier transform and performances of poppy to describe gratings"
   ]
  },
  {
   "cell_type": "code",
   "execution_count": null,
   "id": "b267fba3-ab24-48fe-a440-cbdb5c84e180",
   "metadata": {},
   "outputs": [],
   "source": []
  }
 ],
 "metadata": {
  "celltoolbar": "Diaporama",
  "kernelspec": {
   "display_name": "poppy_py312",
   "language": "python",
   "name": "poppy_py312"
  },
  "language_info": {
   "codemirror_mode": {
    "name": "ipython",
    "version": 3
   },
   "file_extension": ".py",
   "mimetype": "text/x-python",
   "name": "python",
   "nbconvert_exporter": "python",
   "pygments_lexer": "ipython3",
   "version": "3.12.8"
  }
 },
 "nbformat": 4,
 "nbformat_minor": 5
}
