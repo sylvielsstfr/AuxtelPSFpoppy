{
 "cells": [
  {
   "cell_type": "markdown",
   "id": "bbbbbc51-a806-43c2-871e-aa190dc41640",
   "metadata": {
    "editable": true,
    "slideshow": {
     "slide_type": "slide"
    },
    "tags": []
   },
   "source": [
    "# PSF calculation with Poppy\n",
    "\n",
    "## Goal simulate effect of gratings including hologram on. the PSF including the orders 0,1,2 of diffraction and understand Fourier optics\n",
    "- author : Sylvie Dagoret-Campagne\n",
    "- aflilation IJCLab/IN2P3/CNRS\n",
    "- creation date 2025-01-10\n",
    "- last update : 2025-01-11\n",
    "- conda environnement : poppy_conda_py312 (on my macbook)\n",
    "- install poppy : https://poppy-optics.readthedocs.io/en/latest/\n",
    "- install rise in jupyterlab to see the slides : https://github.com/jupyterlab-contrib/rise\n",
    "- install pandoc for documentation"
   ]
  },
  {
   "cell_type": "code",
   "execution_count": null,
   "id": "c9f171b3-0bae-4c39-94ef-2359bf1b5824",
   "metadata": {
    "editable": true,
    "slideshow": {
     "slide_type": "fragment"
    },
    "tags": []
   },
   "outputs": [],
   "source": [
    "from IPython.display import Image\n",
    "Image(filename = \"Figs/fig_aperturediffraction.png\",width=500,height=100)"
   ]
  },
  {
   "cell_type": "markdown",
   "id": "0a38a8bf-28e9-4837-89a9-54445b05494a",
   "metadata": {
    "editable": true,
    "slideshow": {
     "slide_type": "slide"
    },
    "tags": []
   },
   "source": [
    "## Reminder of Diffraction by an aperture $(x_1,y_1)$ seen on a screen at $(x_0,y_0)$ \n",
    "(Goodmann book on Fourier optics)\n",
    "- in Fresnel approximation (spherical wave $\\rightarrow$ quadratic terms in propagation term $\\frac{e^{ikr_{01}}}{j\\lambda z}$~:$z^3 \\gg \\frac{\\pi}{4\\lambda}\\left( (x_0-x_1)^2 + (y_0-y_1)^2 \\right)^2|_{max} $:\n",
    "$$\n",
    "U(x_0,y_0) = \\frac{exp(jkz)}{jkz} \\exp\\left(j \\frac{k}{2z}(x_0^2+y_0^2) \\right) \\int \\int \\left\\{ U(x_1,y_1) \\exp\\left(  j \\frac{k}{2z}(x_1^2+y_1^2)\\right)\\right\\} \\times \\exp \\left\\{ -j \\frac{2 \\pi}{\\lambda z}(x_0x_1+y_0y_1)\n",
    "\\right\\}dx_1 dy_1\n",
    "$$\n",
    "- in Fraunhoffer approximation $ z \\gg \\frac{k(x_1^2+y_1^2)}{2}|_{max}$:\n",
    "$$\n",
    "U(x_0,y_0) = \\frac{exp(jkz)}{jkz} \\exp\\left(j \\frac{k}{2z}(x_0^2+y_0^2) \\right) \\int \\int  U(x_1,y_1)  \\times \\exp \\left\\{ -j \\frac{2 \\pi}{\\lambda z}(x_0x_1+y_0y_1)\n",
    "\\right\\}dx_1 dy_1\n",
    "$$\n",
    "- The Fraunoffer approximation solution is proportional to the Fourier transform of $U(x_1,y_1)$ at frequency $(f_X,f_Y) = (\\frac{x_0}{\\lambda z}, \\frac{y_0}{\\lambda z}) = (\\frac{\\alpha}{\\lambda }, \\frac{\\beta}{\\lambda})$\n",
    "- The Fresnel pproximation solution is proportional to the Fourier transform of $\\left \\{ U(x_1,y_1) \\cdot \\exp\\left(  j \\frac{k}{2z}(x_1^2+y_1^2)\\right) \\right\\}$ at frequency $(f_X,f_Y) = (\\frac{x_0}{\\lambda z}, \\frac{y_0}{\\lambda z}) = (\\frac{\\alpha}{\\lambda }, \\frac{\\beta}{\\lambda})$\n",
    "- $(\\alpha,\\beta))$ incident angles in $(X-Z,Y-Z)$ planes"
   ]
  },
  {
   "cell_type": "markdown",
   "id": "3952d76c-efce-41d0-b6ba-7261388f7c9e",
   "metadata": {
    "editable": true,
    "slideshow": {
     "slide_type": "slide"
    },
    "tags": []
   },
   "source": [
    "## Transform the parallel beam into a converging beam\n",
    "\n",
    "- thin lens of focal length $\\phi$ with a transmission function (depending on lens depth $\\Delta_0$ and refractive index $n$):\n",
    "$$\n",
    "U_l(x,y) = \\exp(j k\\Delta_0 n) \\cdot \\exp(-j \\frac{k}{2\\phi}(x^2+y^2))\n",
    "$$\n",
    "- When a lens (or mirror) transform a parallel beam into a converging beam at the location of an object and have a screen at the focal plane, the $\\exp \\left(j \\frac{k}{2z}(x_1^2+y_1^2 \\right)$ is compensated by the lens term $\\exp(-j \\frac{k}{2\\phi}(x^2+y^2))$\n",
    "- Thus a  converging lens (or mirror) transform a parallel beam Fresnel diffraction into a Fraunhoffer diffraction, provided $z=\\phi$.\n",
    "$$\n",
    "U(x_\\phi,y_\\phi) = \\frac{exp(jk\\phi)}{jk\\phi} \\exp\\left(j \\frac{k}{2\\phi}(x_{\\phi}^2+y_{\\phi}^2) \\right) \\int \\int U(x,y)\\cdot P(x,y) \\times \\exp \n",
    "\\left\\{ -j \\frac{2 \\pi}{\\lambda \\phi}(x_\\phi x+y_\\phi y)\\right\\} dx dy\n",
    "$$"
   ]
  },
  {
   "cell_type": "markdown",
   "id": "8f0e878c-6a61-4bd7-aa59-bc683828836d",
   "metadata": {
    "editable": true,
    "slideshow": {
     "slide_type": "fragment"
    },
    "tags": []
   },
   "source": [
    "### The pupil function of the lens\n",
    "$$\n",
    "P(x,y) = \\left\\{ \\begin{array}{c} 1 \\;\\; r < D/2 \\\\ 0 \\;\\;r > D/2 \\end{array} \\right.\n",
    "$$\n",
    "\n",
    "where $r=\\sqrt{x^2+y^2}$ and $D$ is the lens diameter."
   ]
  },
  {
   "cell_type": "markdown",
   "id": "e348ffc5-19ad-40bc-a7e2-33e484dac9da",
   "metadata": {
    "editable": true,
    "slideshow": {
     "slide_type": "slide"
    },
    "tags": []
   },
   "source": [
    "## Diffraction by an object close to the lens\n",
    "\n",
    "- $t(x,y)$ transmission of the object\n",
    "$$\n",
    "U(x_\\phi,y_\\phi) = \\frac{exp(jk\\phi)}{jk\\phi} \\exp\\left(j \\frac{k}{2\\phi}(x_{\\phi}^2+y_{\\phi}^2) \\right) \\int \\int U(x,y) \\cdot  t(x,y)\\cdot P(x,y) \\times \\exp \n",
    "\\left\\{ -j \\frac{2 \\pi}{\\lambda \\phi}(x_\\phi x+y_\\phi y)\\right\\} dx dy\n",
    "$$"
   ]
  },
  {
   "cell_type": "markdown",
   "id": "11a2b0ce-e6be-4857-a2f3-2b4cc08ffb38",
   "metadata": {
    "editable": true,
    "slideshow": {
     "slide_type": "fragment"
    },
    "tags": []
   },
   "source": [
    "- For an incident plane wave $U(x,y)=1$ :\n",
    "$$\n",
    "U(x_\\phi,y_\\phi) = \\frac{exp(jk\\phi)}{jk\\phi} \\exp\\left(j \\frac{k}{2\\phi}(x_{\\phi}^2+y_{\\phi}^2) \\right) \\int \\int   t(x,y)\\cdot P(x,y) \\times \\exp \n",
    "\\left\\{ -j \\frac{2 \\pi}{\\lambda \\phi}(x_\\phi x+y_\\phi y)\\right\\} dx dy\n",
    "$$\n",
    "- $U(x_\\phi,y_\\phi)$ (at focal plane) is the Fourier transform of the object transmission $t(x,y)$  at frequency $(F_X,F_Y) = (\\frac{x_\\phi}{\\lambda \\phi},\\frac{y_\\phi}{\\lambda \\phi}) = (\\frac{\\alpha_\\phi}{\\lambda },\\frac{\\beta_\\phi}{\\lambda})$\n",
    "- As one move along different angles in focal plane, one access to different frequency components at fixed $\\lambda$."
   ]
  },
  {
   "cell_type": "code",
   "execution_count": null,
   "id": "dbc3a72e-02a4-4746-a39b-1e98b948c75d",
   "metadata": {
    "editable": true,
    "slideshow": {
     "slide_type": "fragment"
    },
    "tags": []
   },
   "outputs": [],
   "source": [
    "Image(filename = \"Figs/fig_lensobjdiffraction.png\",width=500,height=100)"
   ]
  },
  {
   "cell_type": "markdown",
   "id": "c1d7f9ae",
   "metadata": {
    "editable": true,
    "slideshow": {
     "slide_type": "slide"
    },
    "tags": []
   },
   "source": [
    "## Object behind the lens"
   ]
  },
  {
   "cell_type": "code",
   "execution_count": null,
   "id": "50133809",
   "metadata": {
    "editable": true,
    "slideshow": {
     "slide_type": "fragment"
    },
    "tags": []
   },
   "outputs": [],
   "source": [
    "Image(filename = \"Figs/fig_objbehindlensdiffraction.png\",width=500,height=100)"
   ]
  },
  {
   "cell_type": "markdown",
   "id": "768e5325-a045-46b9-adb9-117499dcecdb",
   "metadata": {
    "editable": true,
    "slideshow": {
     "slide_type": "fragment"
    },
    "tags": []
   },
   "source": [
    "$$\n",
    "U_\\phi(x_\\phi,y_\\phi) = \\frac{A \\exp \\left\\{j \\frac{k}{2d}(x_\\phi^2 + y_\\phi^2) \\right\\}}{j \\lambda d} \\frac{\\phi}{d} \\int \\int t_0(x,y) P(x \\frac{\\phi}{d}, y\\frac{\\phi}{d}) \\times \\exp \\left\\{ -j \\frac{2 \\pi}{\\lambda d}(x x_\\phi+ y y_\\phi) \\right\\} dx dy\n",
    "$$\n",
    "\n",
    "- Note the $\\phi$ is replaced by the $d$\n",
    "- $P(x,y)$ pupil function of the lens such that $P(x \\frac{\\phi}{d}, y\\frac{\\phi}{d})$ constrains to the focused beam size at object position\n",
    "- $U_\\phi(x_\\phi,y_\\phi)$ is proportional to the Fourier transform of $t_0(x,y) P(x \\frac{\\phi}{d}, y\\frac{\\phi}{d})$ at frequency $(f_X,f_Y) = (\\frac{x_\\phi}{\\lambda d}, \\frac{y_\\phi}{\\lambda d}) = (\\frac{\\alpha}{\\lambda }, \\frac{\\beta}{\\lambda})$\n",
    "- $(\\alpha,\\beta))$ incident angles in $(X-Z,Y-Z)$ planes"
   ]
  },
  {
   "cell_type": "code",
   "execution_count": null,
   "id": "833cecdf-c2ab-408f-9aca-cacfe12ddb8c",
   "metadata": {
    "slideshow": {
     "slide_type": "subslide"
    },
    "tags": []
   },
   "outputs": [],
   "source": [
    "Image(filename = \"Figs/fig_holo_udiffformula.png\",width=500,height=100)"
   ]
  },
  {
   "cell_type": "code",
   "execution_count": null,
   "id": "95ad2821-f37f-4186-9298-6e320322427a",
   "metadata": {
    "slideshow": {
     "slide_type": "subslide"
    },
    "tags": []
   },
   "outputs": [],
   "source": [
    "Image(filename = \"Figs/fig_holo_idiffformula.png\",width=500,height=100)"
   ]
  },
  {
   "cell_type": "markdown",
   "id": "914c0bc1-69a8-4683-91e7-6ea6d6cc4769",
   "metadata": {
    "slideshow": {
     "slide_type": "slide"
    },
    "tags": []
   },
   "source": [
    "## Summary"
   ]
  },
  {
   "cell_type": "markdown",
   "id": "f706a512-c70f-4eaa-ba3a-9f72cdf3f40f",
   "metadata": {
    "editable": true,
    "slideshow": {
     "slide_type": "fragment"
    },
    "tags": []
   },
   "source": [
    "### Define the Fourier Transform\n",
    "\n",
    "$$\n",
    "{\\cal F_t}(x_z,y_z,z,\\lambda) =\\int \\int t(x,y) \\times \\exp \n",
    "\\left\\{ -j \\frac{2 \\pi}{\\lambda z}(x x_z+y y_z)\\right\\} dx dy\n",
    "$$"
   ]
  },
  {
   "cell_type": "markdown",
   "id": "fc0b8a74-065f-429a-8f12-1238d68b3e2e",
   "metadata": {
    "editable": true,
    "slideshow": {
     "slide_type": ""
    },
    "tags": []
   },
   "source": [
    "#### Fourier transform as Frequency (inverse of length)\n",
    "\n",
    "$$\n",
    "{\\cal H_t}(F_x,F_y) =\\int \\int t(x,y) \\times \\exp \n",
    "\\left\\{ -j 2 \\pi(F_x\\cdot x+ F_y \\cdot y)\\right\\} dx dy\n",
    "$$\n",
    "- when the lens and the object are closeby : $F_x = \\frac{x_z}{\\lambda z}, \\; F_y = \\frac{x_y}{\\lambda z}$ where $z=\\phi$\n",
    "- when the object is behind the lens : $F_x = \\frac{x_z}{\\lambda z}, \\; F_y = \\frac{x_y}{\\lambda z}$ where $z=d$"
   ]
  },
  {
   "cell_type": "markdown",
   "id": "e8c702c3-aa44-4712-b311-9cde8ffe9f9e",
   "metadata": {
    "editable": true,
    "slideshow": {
     "slide_type": "fragment"
    },
    "tags": []
   },
   "source": [
    "### a) Diffraction of an aperture in a converging beam at Focal Plane\n",
    "L'amplitude dans le plan focal est :\n",
    "$$\n",
    "U_a(x_\\phi,y_\\phi) = \\frac{exp(jk\\phi)}{jk\\phi} \\exp\\left(j \\frac{k}{2\\phi}(x_{\\phi}^2+y_{\\phi}^2) \\right) \n",
    "{\\cal F}_P(x_\\phi,y_\\phi,\\phi,\\lambda)\n",
    "$$\n",
    "$$\n",
    "U_a(x_\\phi,y_\\phi) = \\frac{exp(jk\\phi)}{jk\\phi} \\exp\\left(j \\frac{k}{2\\phi}(x_{\\phi}^2+y_{\\phi}^2) \\right) \n",
    "{\\cal H}_P(F_x=\\frac{x_\\phi}{\\lambda \\phi},F_y=\\frac{y_\\phi}{\\lambda \\phi})\n",
    "$$"
   ]
  },
  {
   "cell_type": "markdown",
   "id": "f14dc59b-7ef0-4550-96fc-1907b8a90215",
   "metadata": {
    "editable": true,
    "slideshow": {
     "slide_type": "fragment"
    },
    "tags": []
   },
   "source": [
    "### b) Diffraction by an object of transmission in the beam at distance d from CCD \n",
    "L'amplitude dans le plan focal\n",
    "$$\n",
    "U_b(x_\\phi,y_\\phi) = \\frac{\\exp \\left\\{j \\frac{k}{2d}(x_\\phi^2 + y_\\phi^2) \\right\\}}{j \\lambda d} \\frac{\\phi}{d} {\\cal F}_{Pt}(x_\\phi,y_\\phi,d,\\lambda)\n",
    "$$\n",
    "\n",
    "$$\n",
    "U_b(x_\\phi,y_\\phi) = \\frac{\\exp \\left\\{j \\frac{k}{2d}(x_\\phi^2 + y_\\phi^2) \\right\\}}{j \\lambda d} \\frac{\\phi}{d} {\\cal H}_{Pt}(F_x=\\frac{x_\\phi}{\\lambda d},F_y=\\frac{y_\\phi}{\\lambda d})\n",
    "$$ "
   ]
  },
  {
   "cell_type": "markdown",
   "id": "b464b339-3210-4559-aef1-64dfabf0a665",
   "metadata": {
    "editable": true,
    "slideshow": {
     "slide_type": "fragment"
    },
    "tags": []
   },
   "source": [
    "Poppy calcule la transformée de Fourier dans le plan Focal.\n",
    "Même quand l'objet est placé à une distance $d$ du plan focal.\n",
    "Cependant la solution $U_b(x_\\phi,y_\\phi)$ est celle décalée d'un facteur $\\frac{\\phi}{d}$ par homothétie:\n",
    "$$\n",
    "U_b(x_\\phi,y_\\phi) \\simeq U_a(x_\\phi\\frac{\\phi}{d},y_\\phi \\frac{\\phi}{d})\n",
    "$$\n"
   ]
  },
  {
   "cell_type": "markdown",
   "id": "7efe84e5-91f8-4cfe-941c-6595ecef7413",
   "metadata": {
    "editable": true,
    "raw_mimetype": "",
    "slideshow": {
     "slide_type": "slide"
    },
    "tags": []
   },
   "source": [
    "### Déflexion et position des ordres dans le plan focal\n",
    "L'angle de déflexion pour l'ordre $n$ est le même dans les deux cas a) et b):\n",
    "$$\n",
    "\\theta_n = \\arcsin(n \\lambda/a)\n",
    "$$\n",
    "Pour le cas a) la position de l'ordre $n$ est :\n",
    "$$\n",
    "x_\\phi(a) = \\phi \\tan(\\theta_n)\n",
    "$$\n",
    "Pour le cas a) la position de l'ordre $n$ est :\n",
    "$$\n",
    "x_\\phi(b) = d \\tan(\\theta_n)\n",
    "$$\n",
    "Donc on a bien\n",
    "$$\n",
    "x_\\phi(b) = \\frac{d}{\\phi} x_\\phi(a) \n",
    "$$"
   ]
  },
  {
   "cell_type": "markdown",
   "id": "ffef53e8-8060-4d7b-8a16-dbc11cdd5e55",
   "metadata": {
    "editable": true,
    "slideshow": {
     "slide_type": "slide"
    },
    "tags": []
   },
   "source": [
    "## Poppy Diffraction example\n",
    "\n",
    "- Use Auxtel aperture telescope"
   ]
  },
  {
   "cell_type": "code",
   "execution_count": null,
   "id": "fbd08416-6bda-4285-9bd0-f53622560eac",
   "metadata": {
    "editable": true,
    "slideshow": {
     "slide_type": "skip"
    },
    "tags": []
   },
   "outputs": [],
   "source": [
    "%matplotlib inline\n",
    "import numpy as np\n",
    "import matplotlib.pyplot as plt\n",
    "import poppy\n",
    "import astropy.units as u\n",
    "poppy.__version__"
   ]
  },
  {
   "cell_type": "code",
   "execution_count": null,
   "id": "a3b3dda1-8f58-4fce-85f2-33a2dded3ec5",
   "metadata": {
    "editable": true,
    "slideshow": {
     "slide_type": "skip"
    },
    "tags": []
   },
   "outputs": [],
   "source": [
    "import logging\n",
    "#logging.basicConfig(level=logging.DEBUG)\n",
    "logging.basicConfig(level=logging.INFO)"
   ]
  },
  {
   "cell_type": "markdown",
   "id": "2d319f08-3ba0-4bc3-aa27-02f7c295ab75",
   "metadata": {
    "editable": true,
    "slideshow": {
     "slide_type": ""
    },
    "tags": []
   },
   "source": [
    "#### Auxtel configuration"
   ]
  },
  {
   "cell_type": "code",
   "execution_count": null,
   "id": "cc948c46-679f-44dd-b780-65f487328fb6",
   "metadata": {
    "editable": true,
    "slideshow": {
     "slide_type": "fragment"
    },
    "tags": []
   },
   "outputs": [],
   "source": [
    "# wavelength in m\n",
    "wl = 0.5e-6\n",
    "# pixel scale\n",
    "# 10 microns pixel , 105 microns per arcsec\n",
    "pix_scale = 10.0/105.0 # arcsec per pixel\n",
    "fov_arcsec = 5.0 # must restrict the FOV in focl plane to avoid aliasing\n",
    "# diameter in m\n",
    "D = 1.2\n",
    "Fnum = 18\n",
    "# focal length\n",
    "FL = D*Fnum\n",
    "# Dccd\n",
    "Dccd = 180e-3\n",
    "# beam radius at object positon\n",
    "beam_radius = D/2/FL*Dccd\n",
    "# Position orders\n",
    "Neff= 150. # number of lines per mm\n",
    "Neffperm = Neff*1000\n",
    "theta_1 = np.arcsin(wl*Neffperm)*u.rad\n",
    "theta_1_arcsec = (theta_1/u.arcsec).decompose()\n",
    "theta_1_arcmin = (theta_1/u.arcmin).decompose()"
   ]
  },
  {
   "cell_type": "code",
   "execution_count": null,
   "id": "3c9e4cbc-b993-4d87-86cd-761acf4c20b2",
   "metadata": {},
   "outputs": [],
   "source": [
    "# offset of orders\n",
    "offset_order1_x = theta_1_arcsec/pix_scale  \n",
    "offset_order1_y = 0"
   ]
  },
  {
   "cell_type": "markdown",
   "id": "4993a40d-295e-4f0c-b2ed-f0aa683d8dfc",
   "metadata": {
    "editable": true,
    "slideshow": {
     "slide_type": "slide"
    },
    "tags": []
   },
   "source": [
    "### Auxtel telescope Aperture definition"
   ]
  },
  {
   "cell_type": "code",
   "execution_count": null,
   "id": "61eedbde-66c0-4210-8cfc-9b15254c1353",
   "metadata": {
    "editable": true,
    "slideshow": {
     "slide_type": "fragment"
    },
    "tags": []
   },
   "outputs": [],
   "source": [
    "# number of bins\n",
    "#Nb = 5120\n",
    "#Nb = 4096\n",
    "#Nb= 6144\n",
    "Nb = 8192\n",
    "oversampling=20\n",
    "osys = poppy.OpticalSystem(oversample=oversampling)\n",
    "ap = poppy.CircularAperture(radius=D/2.)\n",
    "values = ap.sample(npix = Nb) \n",
    "\n",
    "fig,ax = plt.subplots(1,1,figsize=(10,8)) \n",
    "ap.display(colorbar=True,what='both',ax=ax)"
   ]
  },
  {
   "cell_type": "markdown",
   "id": "6c5c1351-7426-445a-b237-e873af51f4d8",
   "metadata": {
    "editable": true,
    "slideshow": {
     "slide_type": ""
    },
    "tags": []
   },
   "source": [
    "### Add a detector plane and show the PSF"
   ]
  },
  {
   "cell_type": "code",
   "execution_count": null,
   "id": "93f7d536-dc06-489a-82a0-0a41dce4e235",
   "metadata": {
    "editable": true,
    "slideshow": {
     "slide_type": "slide"
    },
    "tags": []
   },
   "outputs": [],
   "source": [
    " # evaluate on 1024 x 1024 grid\n",
    "osys.add_pupil(ap)    # pupil radius in meters\n",
    "osys.add_detector(pixelscale=pix_scale, fov_arcsec=fov_arcsec)  # image plane coordinates in arcseconds\n",
    "psf = osys.calc_psf(wl,display_intermediates=False)   # wavelength in microns\n",
    "fig,ax = plt.subplots(1,1,figsize=(10,10)) \n",
    "poppy.display_psf(psf, title='Auxtel PSF',ax=ax) \n",
    "plt.savefig('example_airy.png', dpi=100)"
   ]
  },
  {
   "cell_type": "code",
   "execution_count": null,
   "id": "7b57070e-1cf8-41e4-8cc3-d247fac56197",
   "metadata": {
    "editable": true,
    "slideshow": {
     "slide_type": ""
    },
    "tags": []
   },
   "outputs": [],
   "source": [
    "psf[0].data.shape"
   ]
  },
  {
   "cell_type": "code",
   "execution_count": null,
   "id": "3b1b1464-90b8-4fd9-abf7-7ce43c030bdb",
   "metadata": {
    "editable": true,
    "slideshow": {
     "slide_type": ""
    },
    "tags": []
   },
   "outputs": [],
   "source": [
    "fov_arcsec/pix_scale"
   ]
  },
  {
   "cell_type": "markdown",
   "id": "d6ececf1-4d8c-4818-b4f8-8756e13659fc",
   "metadata": {
    "editable": true,
    "slideshow": {
     "slide_type": ""
    },
    "tags": []
   },
   "source": [
    "### Fast Fourier transform"
   ]
  },
  {
   "cell_type": "code",
   "execution_count": null,
   "id": "dba3a684-c794-4583-9e08-ba496de8349f",
   "metadata": {
    "editable": true,
    "slideshow": {
     "slide_type": ""
    },
    "tags": []
   },
   "outputs": [],
   "source": [
    "plt.figure(figsize=(10,8))\n",
    "poppy.display_profiles(psf)"
   ]
  },
  {
   "cell_type": "markdown",
   "id": "0bbc983b-edc1-424c-b5da-e1290335e1c9",
   "metadata": {
    "editable": true,
    "slideshow": {
     "slide_type": "slide"
    },
    "tags": []
   },
   "source": [
    "## Simple Ronchi pattern"
   ]
  },
  {
   "cell_type": "code",
   "execution_count": null,
   "id": "642bcc66-2f43-45cb-8f8c-76681dcb176a",
   "metadata": {
    "editable": true,
    "slideshow": {
     "slide_type": "fragment"
    },
    "tags": []
   },
   "outputs": [],
   "source": []
  },
  {
   "cell_type": "code",
   "execution_count": null,
   "id": "42670c1a-67ed-4102-8036-85b5433914e0",
   "metadata": {
    "editable": true,
    "slideshow": {
     "slide_type": "fragment"
    },
    "tags": []
   },
   "outputs": [],
   "source": [
    "def pupil_function(x,y,D=D,fl=FL,d=Dccd):\n",
    "    \"\"\"\n",
    "    Size of the Beam at Optical element position\n",
    "    \"\"\"\n",
    "\n",
    "    R = np.sqrt(x**2+y**2)*fl/d\n",
    "    value = np.where(R<D/2.,1,0)\n",
    "    return value"
   ]
  },
  {
   "cell_type": "code",
   "execution_count": null,
   "id": "b855e42f-87f9-41bd-80b5-b59f9c38677f",
   "metadata": {
    "editable": true,
    "slideshow": {
     "slide_type": "fragment"
    },
    "tags": []
   },
   "outputs": [],
   "source": [
    "nx, ny = (500, 500)\n",
    "x = np.linspace(-0.01,0.01 ,nx)\n",
    "y = np.linspace(-0.01,0.01, ny)\n",
    "xv, yv = np.meshgrid(x, y)\n",
    "z = pupil_function(xv,yv)"
   ]
  },
  {
   "cell_type": "code",
   "execution_count": null,
   "id": "fc342751-7727-4ca5-98f4-f0d663907ad8",
   "metadata": {
    "editable": true,
    "slideshow": {
     "slide_type": "slide"
    },
    "tags": []
   },
   "outputs": [],
   "source": [
    "fig,ax = plt.subplots(1,1)\n",
    "ax.imshow(z,extent=[x.min(),x.max(),y.min(),y.max()],cmap=\"gray\")\n",
    "ax.set_xlabel(\"x (m)\")\n",
    "ax.set_ylabel(\"y (m)\")\n",
    "ax.set_title(\"pupil function at object position\")"
   ]
  },
  {
   "cell_type": "code",
   "execution_count": null,
   "id": "439c9a51-5ed6-4ffe-9b3f-8736fe5aefd7",
   "metadata": {
    "editable": true,
    "slideshow": {
     "slide_type": "slide"
    },
    "tags": []
   },
   "outputs": [],
   "source": [
    "def set_ronchi_transmission_debug(x,opticalelement_nblines_permm=150):\n",
    "    \"\"\"\n",
    "    Generate a square pattern of transmission.\n",
    "    x in mm\n",
    "    \"\"\"\n",
    "    a = 1/opticalelement_nblines_permm\n",
    "    return np.rint(x/a-0.25 - np.floor(x/a-0.25))"
   ]
  },
  {
   "cell_type": "code",
   "execution_count": null,
   "id": "df196164-b95d-4c62-8903-ca2ea2e4713a",
   "metadata": {
    "editable": true,
    "slideshow": {
     "slide_type": "fragment"
    },
    "tags": []
   },
   "outputs": [],
   "source": [
    "fig,ax = plt.subplots(1,1,figsize=(16,4))\n",
    "x = np.linspace(-0.02,0.02,5000)\n",
    "y = set_ronchi_transmission_debug(x)\n",
    "ax.plot(x,y,'b-')\n",
    "ax.grid()"
   ]
  },
  {
   "cell_type": "code",
   "execution_count": null,
   "id": "622379d2-5c92-450c-ae29-4d1c9f5e2505",
   "metadata": {
    "editable": true,
    "slideshow": {
     "slide_type": "slide"
    },
    "tags": []
   },
   "outputs": [],
   "source": [
    "def set_ronchi_transmission(x,y,wl,opticalelement):\n",
    "    \"\"\"\n",
    "    \"\"\"\n",
    "    nblines_perm = opticalelement.nblines_permm*1000.\n",
    "    a = 1/nblines_perm \n",
    "    #pupil = pupil_function(x,y)\n",
    "    # the aperture stop must be defined before the the optical element\n",
    "    return np.rint(x/a-0.25 - np.floor(x/a-0.25))"
   ]
  },
  {
   "cell_type": "code",
   "execution_count": null,
   "id": "769561e9-b87c-49f1-8c1c-4522ba6072f2",
   "metadata": {
    "editable": true,
    "slideshow": {
     "slide_type": "fragment"
    },
    "tags": []
   },
   "outputs": [],
   "source": [
    "def set_ronchi_opd(x,y,wl,opticalelement):\n",
    "    \"\"\"\n",
    "    \"\"\"\n",
    "    return 0"
   ]
  },
  {
   "cell_type": "code",
   "execution_count": null,
   "id": "6b005e11-fe77-4d1e-a923-c413bbf21f6b",
   "metadata": {
    "editable": true,
    "slideshow": {
     "slide_type": "fragment"
    },
    "tags": []
   },
   "outputs": [],
   "source": [
    "class myRonchiGratingOptic(poppy.AnalyticOpticalElement):\n",
    "    def __init__(self, *args, **kwargs):\n",
    "        \"\"\" If your optic has adjustable parameters, then save them as attributes here \"\"\"\n",
    "        super().__init__(**kwargs)\n",
    "        # number of line per mm\n",
    "        self.nblines_permm = Neff \n",
    "    def get_opd(self,wave):\n",
    "        y, x = self.get_coordinates(wave)\n",
    "        opd = set_ronchi_opd(x,y, wave.wavelength, self)\n",
    "        return opd\n",
    "\n",
    "    def set_transmission(self, wave):\n",
    "        y, x = self.get_coordinates(wave)\n",
    "        transmission = set_ronchi_transmission(x,y, wave.wavelength, self)\n",
    "        return transmission\n",
    "\n",
    "    # behind the scenes poppy  will calculate:\n",
    "    #    phasor = transmission = np.exp(1.j * 2 * np.pi / wave.wavelength * op"
   ]
  },
  {
   "cell_type": "code",
   "execution_count": null,
   "id": "3ed1fdd2-ec78-43b9-9b98-0ebd7c04492f",
   "metadata": {
    "editable": true,
    "slideshow": {
     "slide_type": ""
    },
    "tags": []
   },
   "outputs": [],
   "source": [
    "myoptic = myRonchiGratingOptic(oversample=10)\n",
    "values = myoptic.sample(npix=Nb)  "
   ]
  },
  {
   "cell_type": "code",
   "execution_count": null,
   "id": "e408a342-b933-48f6-b849-374a89ac1906",
   "metadata": {
    "editable": true,
    "slideshow": {
     "slide_type": ""
    },
    "tags": []
   },
   "outputs": [],
   "source": [
    "osys = poppy.OpticalSystem(\"Auxtel + Ronchi - Order 0\", oversample=1)\n",
    "ap= poppy.CircularAperture(radius=beam_radius)\n",
    "values = ap.sample(npix = Nb) \n",
    "#osys.add_pupil(poppy.CircularAperture(radius=D/2))  \n",
    "osys.add_pupil(ap)  \n",
    "osys.add_pupil(myoptic)\n",
    "osys.add_detector(pixelscale=pix_scale, fov_arcsec=50*fov_arcsec)  # image plane coordinates in arcseconds\n",
    "psf = osys.calc_psf(wl)                            # wavelength in microns\n",
    "poppy.display_psf(psf, title='Auxtel + RonchiPSF - Order 0') "
   ]
  },
  {
   "cell_type": "code",
   "execution_count": null,
   "id": "3b0a0404-5787-4315-9646-d27fa4e3b597",
   "metadata": {
    "editable": true,
    "slideshow": {
     "slide_type": ""
    },
    "tags": []
   },
   "outputs": [],
   "source": [
    "plt.figure(figsize=(10,8))\n",
    "poppy.display_profiles(psf)"
   ]
  },
  {
   "cell_type": "markdown",
   "id": "2ea428d7-3aef-4604-b131-312d6739554a",
   "metadata": {
    "editable": true,
    "slideshow": {
     "slide_type": ""
    },
    "tags": []
   },
   "source": [
    "### Try to find Order 1\n",
    "By offsetting the detector plane (pixel units)\n",
    "https://poppy-optics.readthedocs.io/en/latest/api/poppy.Detector.html#poppy.Detector"
   ]
  },
  {
   "cell_type": "code",
   "execution_count": null,
   "id": "d990f989-0c65-4d36-9ced-391bfa232a62",
   "metadata": {
    "editable": true,
    "slideshow": {
     "slide_type": ""
    },
    "tags": []
   },
   "outputs": [],
   "source": [
    "osys = poppy.OpticalSystem(\"Auxtel + Ronchi- Order 1\", oversample=1)\n",
    "ap= poppy.CircularAperture(radius=beam_radius)\n",
    "values = ap.sample(npix = Nb) \n",
    "osys.add_pupil(ap)  \n",
    "osys.add_pupil(myoptic)\n",
    "osys.add_detector(pixelscale=pix_scale, fov_arcsec=10*fov_arcsec, offset = (offset_order1_x,0))  # image plane coordinates in arcseconds\n",
    "psf = osys.calc_psf(wl)                            # wavelength in microns\n",
    "poppy.display_psf(psf, title='Auxtel + RonchiPSF Order1') "
   ]
  },
  {
   "cell_type": "code",
   "execution_count": null,
   "id": "0985cc27-325b-49bb-83be-8e0963037cab",
   "metadata": {
    "editable": true,
    "slideshow": {
     "slide_type": ""
    },
    "tags": []
   },
   "outputs": [],
   "source": [
    "plt.figure(figsize=(10,8))\n",
    "poppy.display_profiles(psf)"
   ]
  },
  {
   "cell_type": "code",
   "execution_count": null,
   "id": "a7f76d94-ae7a-45a9-bef4-6a45613822af",
   "metadata": {},
   "outputs": [],
   "source": []
  }
 ],
 "metadata": {
  "celltoolbar": "Diaporama",
  "kernelspec": {
   "display_name": "poppy_py312",
   "language": "python",
   "name": "poppy_py312"
  },
  "language_info": {
   "codemirror_mode": {
    "name": "ipython",
    "version": 3
   },
   "file_extension": ".py",
   "mimetype": "text/x-python",
   "name": "python",
   "nbconvert_exporter": "python",
   "pygments_lexer": "ipython3",
   "version": "3.12.8"
  }
 },
 "nbformat": 4,
 "nbformat_minor": 5
}
